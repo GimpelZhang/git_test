{
 "cells": [
  {
   "cell_type": "markdown",
   "metadata": {},
   "source": [
    "## Understanding ROS Topics 理解ROS话题\n",
    "本节介绍ROS话题的概念，并介绍命令行工具 `rostopic` .\n",
    " \n",
    "来源: [ROS Wiki](http://wiki.ros.org/ROS/Tutorials/UnderstandingTopics) \n",
    "\n",
    "首先，确保你已经在本地系统某处运行了 `roscore` :"
   ]
  },
  {
   "cell_type": "code",
   "execution_count": 4,
   "metadata": {},
   "outputs": [
    {
     "name": "stdout",
     "output_type": "stream",
     "text": [
      "/rosout\n"
     ]
    }
   ],
   "source": [
    "%%bash\n",
    "rosnode list"
   ]
  },
  {
   "cell_type": "markdown",
   "metadata": {},
   "source": [
    "以上命令应返回/rosout\n",
    "\n",
    "在本节中我们还会用到turtlesim."
   ]
  },
  {
   "cell_type": "code",
   "execution_count": 5,
   "metadata": {},
   "outputs": [
    {
     "name": "stdout",
     "output_type": "stream",
     "text": [
      "Starting job # 0 in a separate thread.\n"
     ]
    }
   ],
   "source": [
    "%%bash --bg\n",
    "rosrun turtlesim turtlesim_node"
   ]
  },
  {
   "cell_type": "markdown",
   "metadata": {},
   "source": [
    "### rostopic\n",
    "命令行工具 `rostopic` 可以用来查看ROS **topics**的各种信息\n",
    "\n",
    "首先可以用-h参数来看 `rostopic` 可以使用哪些参数:"
   ]
  },
  {
   "cell_type": "code",
   "execution_count": 6,
   "metadata": {},
   "outputs": [
    {
     "name": "stdout",
     "output_type": "stream",
     "text": [
      "rostopic is a command-line tool for printing information about ROS Topics.\n",
      "\n",
      "Commands:\n",
      "\trostopic bw\tdisplay bandwidth used by topic\n",
      "\trostopic delay\tdisplay delay of topic from timestamp in header\n",
      "\trostopic echo\tprint messages to screen\n",
      "\trostopic find\tfind topics by type\n",
      "\trostopic hz\tdisplay publishing rate of topic    \n",
      "\trostopic info\tprint information about active topic\n",
      "\trostopic list\tlist active topics\n",
      "\trostopic pub\tpublish data to topic\n",
      "\trostopic type\tprint topic or field type\n",
      "\n",
      "Type rostopic <command> -h for more detailed usage, e.g. 'rostopic echo -h'\n",
      "\n"
     ]
    }
   ],
   "source": [
    "%%bash\n",
    "rostopic -h"
   ]
  },
  {
   "cell_type": "markdown",
   "metadata": {},
   "source": [
    "`rostopic list` 返回现有的所有ROS话题名称："
   ]
  },
  {
   "cell_type": "code",
   "execution_count": 7,
   "metadata": {},
   "outputs": [
    {
     "name": "stdout",
     "output_type": "stream",
     "text": [
      "\n",
      "Published topics:\n",
      " * /turtle1/color_sensor [turtlesim/Color] 1 publisher\n",
      " * /rosout [rosgraph_msgs/Log] 1 publisher\n",
      " * /rosout_agg [rosgraph_msgs/Log] 1 publisher\n",
      " * /turtle1/pose [turtlesim/Pose] 1 publisher\n",
      "\n",
      "Subscribed topics:\n",
      " * /turtle1/cmd_vel [geometry_msgs/Twist] 1 subscriber\n",
      " * /rosout [rosgraph_msgs/Log] 1 subscriber\n",
      "\n"
     ]
    }
   ],
   "source": [
    "%%bash\n",
    "rostopic list -v"
   ]
  },
  {
   "cell_type": "markdown",
   "metadata": {},
   "source": [
    "可用rostopic type来查看某个ROS话题的数据格式："
   ]
  },
  {
   "cell_type": "code",
   "execution_count": 8,
   "metadata": {},
   "outputs": [
    {
     "name": "stdout",
     "output_type": "stream",
     "text": [
      "geometry_msgs/Twist\n"
     ]
    }
   ],
   "source": [
    "%%bash\n",
    "rostopic type /turtle1/cmd_vel"
   ]
  },
  {
   "cell_type": "markdown",
   "metadata": {},
   "source": [
    "geometry_msgs/Twist的具体格式信息可以在网上查到：[geometry_msgs/Twist](http://docs.ros.org/melodic/api/geometry_msgs/html/msg/Twist.html)\n",
    "\n",
    "也可以在命令行使用 `rosmsg`来查看格式信息:"
   ]
  },
  {
   "cell_type": "code",
   "execution_count": 10,
   "metadata": {},
   "outputs": [
    {
     "name": "stdout",
     "output_type": "stream",
     "text": [
      "geometry_msgs/Vector3 linear\n",
      "  float64 x\n",
      "  float64 y\n",
      "  float64 z\n",
      "geometry_msgs/Vector3 angular\n",
      "  float64 x\n",
      "  float64 y\n",
      "  float64 z\n",
      "\n"
     ]
    }
   ],
   "source": [
    "%%bash\n",
    "rosmsg show geometry_msgs/Twist"
   ]
  },
  {
   "cell_type": "markdown",
   "metadata": {},
   "source": [
    "`rostopic pub` 可以向一个ROS话题中发布指定格式和内容的信息."
   ]
  },
  {
   "cell_type": "code",
   "execution_count": 13,
   "metadata": {},
   "outputs": [
    {
     "name": "stdout",
     "output_type": "stream",
     "text": [
      "publishing and latching message for 3.0 seconds\n"
     ]
    },
    {
     "name": "stderr",
     "output_type": "stream",
     "text": [
      "/opt/ros/kinetic/lib/python2.7/dist-packages/rostopic/__init__.py:1762: YAMLLoadWarning: calling yaml.load() without Loader=... is deprecated, as the default Loader is unsafe. Please read https://msg.pyyaml.org/load for full details.\n",
      "  pub_args.append(yaml.load(arg))\n"
     ]
    }
   ],
   "source": [
    "%%bash\n",
    "rostopic pub -1 /turtle1/cmd_vel geometry_msgs/Twist -- \\\n",
    "'[2.0, 0.0, 0.0]' '[0.0, 0.0, 1.8]'"
   ]
  },
  {
   "cell_type": "markdown",
   "metadata": {},
   "source": [
    "以上命令向turtlesim节点发布了一条信息，让窗口中的乌龟以2.0的线速度、1.8的角速度运动。\n",
    "\n",
    "分解来看这条命令：\n",
    "\n",
    "* rostopic加pub会向指定ROS话题发布信息:  \n",
    "    `rostopic pub`\n",
    "* -1参数代表只发送一条信息，然后停止:  \n",
    "    `-1` \n",
    "* 以下是发布的话题名称:  \n",
    "    `/turtle1/cmd_vel`\n",
    "* 以下是发布的数据格式:  \n",
    "    `geometry_msgs/Twist`\n",
    "* 以下两条短横线 -- 告诉option parser之后的内容不再是option的内容，也就是说之后如果跟一个带负号的数字的话，option parser不再认为它是个option  \n",
    "    `--`\n",
    "* 如前所述，一个geometry_msgs/Twist格式的信息包含两个由浮点数组成的向量，每个向量有三个元素，两个向量分别是 `linear` 和 `angular` . 在这个例子中, `'[2.0, 0.0, 0.0]'` 就给linear向量赋值 x=2.0, y=0.0, z=0.0, `'[0.0, 0.0, 1.8]'` 就是在给angular向量赋值 x=0.0, y=0.0, z=1.8. 以上数字按照 YAML 标识方法写出, 详细内容参见 [YAML command line documentation](http://wiki.ros.org/ROS/YAMLCommandLine). \n",
    "    \n",
    "    `'[2.0, 0.0, 0.0]' '[0.0, 0.0, 1.8]'`\n",
    "\n",
    "turtlesim窗口中的乌龟运动一下就会停止，这是因为以上只发布了一条速度信息，如果需要持续运动，那么需要以固定频率持续发布速度信息。\n",
    "\n",
    "下一节介绍： [services and parameters](ROS_Services_and_Parameters.ipynb) .\n",
    "\n",
    "保持roscore和turtlesim打开，不要关闭。"
   ]
  },
  {
   "cell_type": "code",
   "execution_count": null,
   "metadata": {},
   "outputs": [],
   "source": []
  }
 ],
 "metadata": {
  "kernelspec": {
   "display_name": "Python 2",
   "language": "python",
   "name": "python2"
  },
  "language_info": {
   "codemirror_mode": {
    "name": "ipython",
    "version": 2
   },
   "file_extension": ".py",
   "mimetype": "text/x-python",
   "name": "python",
   "nbconvert_exporter": "python",
   "pygments_lexer": "ipython2",
   "version": "2.7.12"
  }
 },
 "nbformat": 4,
 "nbformat_minor": 1
}

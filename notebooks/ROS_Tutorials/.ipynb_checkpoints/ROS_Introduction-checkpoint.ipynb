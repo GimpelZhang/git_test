{
 "cells": [
  {
   "cell_type": "markdown",
   "metadata": {},
   "source": [
    "# ROS 机器人操作系统\n",
    "\n",
    "ROS是机器人操作系统Robot Operating System的缩写。"
   ]
  },
  {
   "cell_type": "markdown",
   "metadata": {},
   "source": [
    "ROS是一个被广泛应用于商业和学术研究的免费的开源机器人技术软件框架。所谓“软件框架”，在此可以简单理解为ROS提供了一系列的软件工具和软件设计规则，来让机器人开发者在此基础上进行机器人软件的开发设计。"
   ]
  },
  {
   "cell_type": "markdown",
   "metadata": {},
   "source": [
    "ROS主要有以下功能特点：\n",
    "\n",
    "* 进程间的消息传递接口\n",
    "* 操作系统式的功能：这些功能包括多线程管理，底层设备控制，程序包管理和对硬件抽象等\n",
    "* 支持c++和python等高级语言，并提供了一列基于这些语言的工具\n",
    "* 丰富的第三方库：OpenCV、PCL等库均有支持ROS的接口\n",
    "* 丰富的现成算法：包括AMCL、SLAM、A star、Dijkstra等流行的机器人算法\n",
    "* 社区支持及时：使用的人多，因此网上的资源和支持也多"
   ]
  },
  {
   "cell_type": "markdown",
   "metadata": {},
   "source": [
    "ROS从2007年发展至今，已经陆续推出了很多版本。每个版本有一个独特的名字，如indigo、kinetic、melodic等。\n",
    "\n",
    "ROS的Logo永远是： **乌龟**，各种各样的乌龟。"
   ]
  },
  {
   "cell_type": "markdown",
   "metadata": {},
   "source": [
    "ROS的各个版本及发布时间如下图：\n",
    "\n",
    "![图1](image/fig1.png)"
   ]
  },
  {
   "cell_type": "markdown",
   "metadata": {},
   "source": [
    "在ubuntu 16.04系统中安装ros-kinetic的过程介绍请参见notebook：shell_tutorials.ipynb"
   ]
  },
  {
   "cell_type": "markdown",
   "metadata": {},
   "source": [
    "下图展示了一个ROS的基本框图：\n",
    "\n",
    "![图2](image/fig2.png)"
   ]
  },
  {
   "cell_type": "markdown",
   "metadata": {},
   "source": [
    "Node1和Node2可以看做是机器人的两个程序，"
   ]
  }
 ],
 "metadata": {
  "kernelspec": {
   "display_name": "Python 2",
   "language": "python",
   "name": "python2"
  },
  "language_info": {
   "codemirror_mode": {
    "name": "ipython",
    "version": 2
   },
   "file_extension": ".py",
   "mimetype": "text/x-python",
   "name": "python",
   "nbconvert_exporter": "python",
   "pygments_lexer": "ipython2",
   "version": "2.7.12"
  }
 },
 "nbformat": 4,
 "nbformat_minor": 2
}

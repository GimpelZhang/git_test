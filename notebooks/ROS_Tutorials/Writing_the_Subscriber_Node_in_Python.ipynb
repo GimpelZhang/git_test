{
 "cells": [
  {
   "cell_type": "markdown",
   "metadata": {},
   "source": [
    "## 代码详解\n",
    "\n",
    "首先确保上一节Writing the Publisher Node in Python中的程序保持运行"
   ]
  },
  {
   "cell_type": "code",
   "execution_count": 6,
   "metadata": {},
   "outputs": [],
   "source": [
    "import rospy\n",
    "from std_msgs.msg import String"
   ]
  },
  {
   "cell_type": "code",
   "execution_count": 7,
   "metadata": {},
   "outputs": [],
   "source": [
    "def callback(data):\n",
    "    rospy.loginfo(rospy.get_caller_id() + \"I heard %s\", data.data)"
   ]
  },
  {
   "cell_type": "markdown",
   "metadata": {},
   "source": [
    "我们引入了一种新的基于回调的消息订阅机制："
   ]
  },
  {
   "cell_type": "code",
   "execution_count": 8,
   "metadata": {},
   "outputs": [],
   "source": [
    "rospy.init_node('listener', anonymous=True)\n",
    "\n",
    "rospy.Subscriber(\"chatter\", String, callback)\n",
    "\n",
    "rospy.spin()"
   ]
  },
  {
   "cell_type": "markdown",
   "metadata": {},
   "source": [
    "以上代码首先声明此节点订阅了名称为 `chatter` 的ROS话题，数据格式为 `std_msgs.msgs.String`. 当新的消息进来时, `callback` 方程就被调用了.\n",
    "\n",
    "ROS框架规定每个节点都应该有一个独有的名称。如果出现重名，后启动的节点就会顶替掉之前的节点。这样一来，故障节点就可以轻松地被踢出去。\n",
    "anonymous=True标志告诉rospy为该节点生成一个唯一的名称，这样同样的代码可以启动许多个执行相同功能的listener节点。\n",
    "\n",
    "下一节将介绍编写提供服务的节点：\n",
    "\n",
    "[Wrting a Service Node in Python](Wrting_a_Service_Node_in_Python.ipynb)"
   ]
  },
  {
   "cell_type": "code",
   "execution_count": null,
   "metadata": {},
   "outputs": [],
   "source": []
  }
 ],
 "metadata": {
  "kernelspec": {
   "display_name": "Python 2",
   "language": "python",
   "name": "python2"
  },
  "language_info": {
   "codemirror_mode": {
    "name": "ipython",
    "version": 2
   },
   "file_extension": ".py",
   "mimetype": "text/x-python",
   "name": "python",
   "nbconvert_exporter": "python",
   "pygments_lexer": "ipython2",
   "version": "2.7.12"
  }
 },
 "nbformat": 4,
 "nbformat_minor": 2
}

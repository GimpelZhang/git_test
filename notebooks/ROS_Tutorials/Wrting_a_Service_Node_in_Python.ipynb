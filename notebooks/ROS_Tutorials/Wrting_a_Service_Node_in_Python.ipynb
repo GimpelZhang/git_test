{
 "cells": [
  {
   "cell_type": "markdown",
   "metadata": {},
   "source": [
    "## 编写一个Service节点\n",
    "\n",
    "这里我们将编写一个提供(\"add_two_ints_server\")服务的节点，接受两个整数，返回和。\n",
    "\n",
    "保持roscore运行。"
   ]
  },
  {
   "cell_type": "code",
   "execution_count": 1,
   "metadata": {},
   "outputs": [],
   "source": [
    "from rospy_tutorials.srv import *\n",
    "import rospy"
   ]
  },
  {
   "cell_type": "code",
   "execution_count": 2,
   "metadata": {},
   "outputs": [],
   "source": [
    "def handle_add_two_ints(req):\n",
    "    print \"Returning [%s + %s = %s]\"%(req.a, req.b, (req.a + req.b))\n",
    "    return AddTwoIntsResponse(req.a + req.b)"
   ]
  },
  {
   "cell_type": "markdown",
   "metadata": {},
   "source": [
    "使用 [rospy](http://wiki.ros.org/rospy) 来写一个服务节点并不复杂，只需要初始化节点 `init_node()` 并声明服务即可: "
   ]
  },
  {
   "cell_type": "code",
   "execution_count": 3,
   "metadata": {},
   "outputs": [],
   "source": [
    "rospy.init_node('add_two_ints_server')\n",
    "s = rospy.Service('add_two_ints', AddTwoInts, handle_add_two_ints)"
   ]
  },
  {
   "cell_type": "markdown",
   "metadata": {},
   "source": [
    "在这里，我们声明了一个新的服务叫做 `add_two_ints` ，服务类型是 `AddTwoInts`. 所有的服务请求都将交给上面编写的 `handle_add_two_ints` 方程. `handle_add_two_ints` 方程被一个 `AddTwoIntsRequest` 的实例调用，返回一个 `AddTwoIntsResponse` 的实例. \n",
    "\n",
    "和订阅节点一样， `rospy.spin()` 维持代码持续运行直到服务关闭。 "
   ]
  },
  {
   "cell_type": "code",
   "execution_count": 4,
   "metadata": {},
   "outputs": [
    {
     "name": "stdout",
     "output_type": "stream",
     "text": [
      "Ready to add two ints.\n",
      "Returning [5 + 3 = 8]\n"
     ]
    }
   ],
   "source": [
    "print \"Ready to add two ints.\"\n",
    "rospy.spin()"
   ]
  },
  {
   "cell_type": "markdown",
   "metadata": {},
   "source": [
    "下一节编写请求服务的节点：\n",
    "\n",
    "[Writing the Client Node in Python](Writing_the_Client_Node_in_Python.ipynb)"
   ]
  },
  {
   "cell_type": "code",
   "execution_count": null,
   "metadata": {},
   "outputs": [],
   "source": []
  }
 ],
 "metadata": {
  "kernelspec": {
   "display_name": "Python 2",
   "language": "python",
   "name": "python2"
  },
  "language_info": {
   "codemirror_mode": {
    "name": "ipython",
    "version": 2
   },
   "file_extension": ".py",
   "mimetype": "text/x-python",
   "name": "python",
   "nbconvert_exporter": "python",
   "pygments_lexer": "ipython2",
   "version": "2.7.12"
  }
 },
 "nbformat": 4,
 "nbformat_minor": 2
}

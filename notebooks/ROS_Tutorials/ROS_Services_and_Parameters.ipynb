{
 "cells": [
  {
   "cell_type": "markdown",
   "metadata": {
    "collapsed": true
   },
   "source": [
    "## Understanding ROS Services and Parameters 理解ROS服务和参数\n",
    "本节将介绍ROS服务和参数的概念，以及相应的命令行工具 `rosservice` 和 `rosparam` \n",
    "\n",
    "来源: [ROS Wiki](http://wiki.ros.org/ROS/Tutorials/UnderstandingServicesParams) "
   ]
  },
  {
   "cell_type": "markdown",
   "metadata": {},
   "source": [
    "ROS服务是ROS节点间另一种交互方式，使用的是 **请求** 和 **回应** 的机制"
   ]
  },
  {
   "cell_type": "markdown",
   "metadata": {},
   "source": [
    "### rosservice\n",
    "`rosservice` 的使用方法可以通过-h来查看:"
   ]
  },
  {
   "cell_type": "code",
   "execution_count": 5,
   "metadata": {
    "scrolled": true
   },
   "outputs": [
    {
     "name": "stdout",
     "output_type": "stream",
     "text": [
      "Commands:\n",
      "\trosservice args\tprint service arguments\n",
      "\trosservice call\tcall the service with the provided args\n",
      "\trosservice find\tfind services by service type\n",
      "\trosservice info\tprint information about service\n",
      "\trosservice list\tlist active services\n",
      "\trosservice type\tprint service type\n",
      "\trosservice uri\tprint service ROSRPC uri\n",
      "\n",
      "Type rosservice <command> -h for more detailed usage, e.g. 'rosservice call -h'\n",
      "\n"
     ]
    }
   ],
   "source": [
    "%%bash\n",
    "rosservice -h"
   ]
  },
  {
   "cell_type": "markdown",
   "metadata": {},
   "source": [
    "以下使用 `list` 可以看到 `turtlesim` 节点提供了九个服务: `reset`, `clear`, `spawn`, `kill`, `turtle1/set_pen`, `/turtle1/teleport_absolute`, `/turtle1/teleport_relative`, `turtlesim/get_loggers`, 和 `turtlesim/set_logger_level`. 另外两个服务是 `rosout` 节点提供的: `/rosout/get_loggers` 和 `/rosout/set_logger_level`."
   ]
  },
  {
   "cell_type": "code",
   "execution_count": 6,
   "metadata": {},
   "outputs": [
    {
     "name": "stdout",
     "output_type": "stream",
     "text": [
      "/clear\n",
      "/kill\n",
      "/reset\n",
      "/rosout/get_loggers\n",
      "/rosout/set_logger_level\n",
      "/spawn\n",
      "/turtle1/set_pen\n",
      "/turtle1/teleport_absolute\n",
      "/turtle1/teleport_relative\n",
      "/turtlesim/get_loggers\n",
      "/turtlesim/set_logger_level\n"
     ]
    }
   ],
   "source": [
    "%%bash\n",
    "rosservice list"
   ]
  },
  {
   "cell_type": "markdown",
   "metadata": {},
   "source": [
    "现在用 `rosservice type` 来查看 `clear` 服务的类型 :"
   ]
  },
  {
   "cell_type": "code",
   "execution_count": 7,
   "metadata": {},
   "outputs": [
    {
     "name": "stdout",
     "output_type": "stream",
     "text": [
      "std_srvs/Empty\n"
     ]
    }
   ],
   "source": [
    "%%bash\n",
    "rosservice type clear"
   ]
  },
  {
   "cell_type": "markdown",
   "metadata": {},
   "source": [
    "返回了一个std_srvs/Empty，这意味着请求这个服务的时候不必给它传入任何参数，它执行服务后也不会返回任何数据信息。我们来用 `rosservice call` 请求这个服务：\n"
   ]
  },
  {
   "cell_type": "code",
   "execution_count": 9,
   "metadata": {},
   "outputs": [
    {
     "name": "stdout",
     "output_type": "stream",
     "text": [
      "\n"
     ]
    }
   ],
   "source": [
    "%%bash\n",
    "rosservice call clear"
   ]
  },
  {
   "cell_type": "markdown",
   "metadata": {},
   "source": [
    "这个服务把上一节中 `turtlesim_node` 窗口中小乌龟的轨迹线擦掉了。\n",
    "\n",
    "现在让我们来看需要给服务传入参数的情况：来看 `spawn` 这个服务"
   ]
  },
  {
   "cell_type": "code",
   "execution_count": 10,
   "metadata": {},
   "outputs": [
    {
     "name": "stdout",
     "output_type": "stream",
     "text": [
      "float32 x\n",
      "float32 y\n",
      "float32 theta\n",
      "string name\n",
      "---\n",
      "string name\n",
      "\n"
     ]
    }
   ],
   "source": [
    "%%bash\n",
    "rosservice type spawn | rossrv show"
   ]
  },
  {
   "cell_type": "markdown",
   "metadata": {},
   "source": [
    "这个服务可以让我们在turtlesim窗口中指定位置指定角度放入一个指定名称的新乌龟。（---以下又重复了一遍string name，代表name这个参数不是必须的）"
   ]
  },
  {
   "cell_type": "code",
   "execution_count": 11,
   "metadata": {},
   "outputs": [
    {
     "name": "stdout",
     "output_type": "stream",
     "text": [
      "name: \"turtle2\"\n"
     ]
    },
    {
     "name": "stderr",
     "output_type": "stream",
     "text": [
      "/opt/ros/kinetic/lib/python2.7/dist-packages/rosservice/__init__.py:607: YAMLLoadWarning: calling yaml.load() without Loader=... is deprecated, as the default Loader is unsafe. Please read https://msg.pyyaml.org/load for full details.\n",
      "  service_args.append(yaml.load(arg))\n"
     ]
    }
   ],
   "source": [
    "%%bash\n",
    "rosservice call spawn 2 2 0.2 \"\""
   ]
  },
  {
   "cell_type": "markdown",
   "metadata": {},
   "source": [
    "### rosparam"
   ]
  },
  {
   "cell_type": "markdown",
   "metadata": {},
   "source": [
    "`rosparam` 工具可以让你储存操作在 ROS [Parameter Server](http://wiki.ros.org/Parameter%20Server) 中的参数数据. Parameter Server 可以储存整数、浮点数、布尔数、字典、列表等数据形式 `rosparam` 使用YAML标记语言. 简单举例: `1` 是整数, `1.0` 是浮点数, `one` 是字符串, `true` 是布尔数, `[1, 2, 3]` 是一个整数列表, `{a: b, c: d}` 是一个字典. `rosparam` 有很多命令行参数，比如:"
   ]
  },
  {
   "cell_type": "code",
   "execution_count": 12,
   "metadata": {},
   "outputs": [
    {
     "name": "stdout",
     "output_type": "stream",
     "text": [
      "rosparam is a command-line tool for getting, setting, and deleting parameters from the ROS Parameter Server.\n",
      "\n",
      "Commands:\n",
      "\trosparam set\tset parameter\n",
      "\trosparam get\tget parameter\n",
      "\trosparam load\tload parameters from file\n",
      "\trosparam dump\tdump parameters to file\n",
      "\trosparam delete\tdelete parameter\n",
      "\trosparam list\tlist parameter names\n",
      "\n"
     ]
    }
   ],
   "source": [
    "%%bash\n",
    "rosparam -h"
   ]
  },
  {
   "cell_type": "markdown",
   "metadata": {},
   "source": [
    "查看已在parameter server中储存的参数数据："
   ]
  },
  {
   "cell_type": "code",
   "execution_count": 13,
   "metadata": {},
   "outputs": [
    {
     "name": "stdout",
     "output_type": "stream",
     "text": [
      "/background_b\n",
      "/background_g\n",
      "/background_r\n",
      "/rosdistro\n",
      "/roslaunch/uris/host_localhost__33937\n",
      "/rosversion\n",
      "/run_id\n"
     ]
    }
   ],
   "source": [
    "%%bash\n",
    "rosparam list"
   ]
  },
  {
   "cell_type": "markdown",
   "metadata": {},
   "source": [
    "下面我们用 `rosparam set` 命令来改变其中一个参数:"
   ]
  },
  {
   "cell_type": "code",
   "execution_count": 14,
   "metadata": {},
   "outputs": [
    {
     "name": "stderr",
     "output_type": "stream",
     "text": [
      "/opt/ros/kinetic/lib/python2.7/dist-packages/rosparam/__init__.py:375: YAMLLoadWarning: calling yaml.load() without Loader=... is deprecated, as the default Loader is unsafe. Please read https://msg.pyyaml.org/load for full details.\n",
      "  set_param_raw(param, yaml.load(value), verbose=verbose)\n"
     ]
    }
   ],
   "source": [
    "%%bash\n",
    "rosparam set background_r 150"
   ]
  },
  {
   "cell_type": "markdown",
   "metadata": {},
   "source": [
    "现在相应的参数已经修改好了，但是仍需要请求一次clear服务来使新参数生效："
   ]
  },
  {
   "cell_type": "code",
   "execution_count": 15,
   "metadata": {},
   "outputs": [
    {
     "name": "stdout",
     "output_type": "stream",
     "text": [
      "\n"
     ]
    }
   ],
   "source": [
    "%%bash\n",
    "rosservice call clear"
   ]
  },
  {
   "cell_type": "markdown",
   "metadata": {},
   "source": [
    "可以观察到turtlesim的窗口已经被改变了。\n",
    "\n",
    "我们可以通过 `rosparam get /` 来查看 Parameter Server 中的所有内容："
   ]
  },
  {
   "cell_type": "code",
   "execution_count": 16,
   "metadata": {},
   "outputs": [
    {
     "name": "stdout",
     "output_type": "stream",
     "text": [
      "background_b: 255\n",
      "background_g: 86\n",
      "background_r: 150\n",
      "rosdistro: 'kinetic\n",
      "\n",
      "  '\n",
      "roslaunch:\n",
      "  uris:\n",
      "    host_localhost__33937: http://localhost:33937/\n",
      "rosversion: '1.12.14\n",
      "\n",
      "  '\n",
      "run_id: 71bcc232-dd18-11ea-a5ce-00d86127892a\n",
      "\n"
     ]
    }
   ],
   "source": [
    "%%bash\n",
    "rosparam get /"
   ]
  },
  {
   "cell_type": "markdown",
   "metadata": {},
   "source": [
    "下一节将进入一些ROS编程的简单介绍。\n",
    "\n",
    "turtlesim窗口可以关闭，保留roscore打开。\n",
    "\n",
    "[Writing the Publisher Node in Python](Writing_the_Publisher_Node_in_Python.ipynb)"
   ]
  },
  {
   "cell_type": "code",
   "execution_count": null,
   "metadata": {},
   "outputs": [],
   "source": []
  }
 ],
 "metadata": {
  "kernelspec": {
   "display_name": "Python 2",
   "language": "python",
   "name": "python2"
  },
  "language_info": {
   "codemirror_mode": {
    "name": "ipython",
    "version": 2
   },
   "file_extension": ".py",
   "mimetype": "text/x-python",
   "name": "python",
   "nbconvert_exporter": "python",
   "pygments_lexer": "ipython2",
   "version": "2.7.12"
  }
 },
 "nbformat": 4,
 "nbformat_minor": 1
}

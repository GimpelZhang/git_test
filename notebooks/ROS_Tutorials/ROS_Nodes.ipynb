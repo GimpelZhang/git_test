{
 "cells": [
  {
   "cell_type": "markdown",
   "metadata": {},
   "source": [
    "## Understanding ROS Nodes 理解ROS节点\n",
    "\n",
    "本节介绍了ROS的总体概念和一些命令行工具的用法： `roscore`, `rosnode`, `rosrun` \n",
    "\n",
    "来源: [ROS Wiki](http://wiki.ros.org/ROS/Tutorials/UnderstandingNodes)"
   ]
  },
  {
   "cell_type": "markdown",
   "metadata": {},
   "source": [
    "### ROS核心概念：\n",
    "* Nodes: ROS节点，一系列应用了ROS API的应用程序.\n",
    "* Messages: ROS框架下传递的信息.\n",
    "* Topics: ROS框架下传递信息的通道."
   ]
  },
  {
   "cell_type": "markdown",
   "metadata": {},
   "source": [
    "### roscore\n",
    "\n",
    "`roscore` 使用ROS应该首先运行roscore\n"
   ]
  },
  {
   "cell_type": "code",
   "execution_count": 2,
   "metadata": {},
   "outputs": [
    {
     "name": "stdout",
     "output_type": "stream",
     "text": [
      "Starting job # 2 in a separate thread.\n"
     ]
    }
   ],
   "source": [
    "%%bash --bg\n",
    "roscore"
   ]
  },
  {
   "cell_type": "markdown",
   "metadata": {},
   "source": [
    "以上命令将会在本地计算机后台启动一个rosmaster程序，可以通过单独打开一个terminal输入\n",
    "\n",
    "```bash\n",
    "top | grep rosmaster\n",
    "\n",
    "```\n",
    "\n",
    "并回车查看rosmaster的进程pid"
   ]
  },
  {
   "cell_type": "markdown",
   "metadata": {},
   "source": [
    "###  rosnode\n",
    "\n",
    "`rosnode` 可用于查看此时运行的ROS节点的信息. 比如 `rosnode list` 可以返回所有运行中的节点的名称:"
   ]
  },
  {
   "cell_type": "code",
   "execution_count": 3,
   "metadata": {},
   "outputs": [
    {
     "name": "stdout",
     "output_type": "stream",
     "text": [
      "/rosout\n"
     ]
    }
   ],
   "source": [
    "%%bash\n",
    "rosnode list"
   ]
  },
  {
   "cell_type": "code",
   "execution_count": 4,
   "metadata": {},
   "outputs": [
    {
     "name": "stdout",
     "output_type": "stream",
     "text": [
      "--------------------------------------------------------------------------------\n",
      "Node [/rosout]\n",
      "Publications: \n",
      " * /rosout_agg [rosgraph_msgs/Log]\n",
      "\n",
      "Subscriptions: \n",
      " * /rosout [unknown type]\n",
      "\n",
      "Services: \n",
      " * /rosout/get_loggers\n",
      " * /rosout/set_logger_level\n",
      "\n",
      "\n",
      "contacting node http://localhost:34625/ ...\n",
      "Pid: 8142\n",
      "\n"
     ]
    }
   ],
   "source": [
    "%%bash\n",
    "rosnode info rosout"
   ]
  },
  {
   "cell_type": "markdown",
   "metadata": {},
   "source": [
    "### rosrun\n",
    "\n",
    "`rosrun` rosrun可以用来启动一个ROS节点，通过指定要启动的节点的ROS文件夹和ROS节点的名称来执行。(在本地计算机安装配置好ROS环境的情况下，可以不指定ROS文件夹的路径)."
   ]
  },
  {
   "cell_type": "code",
   "execution_count": 5,
   "metadata": {},
   "outputs": [
    {
     "name": "stdout",
     "output_type": "stream",
     "text": [
      "Starting job # 3 in a separate thread.\n"
     ]
    }
   ],
   "source": [
    "%%bash --bg\n",
    "rosrun turtlesim turtlesim_node"
   ]
  },
  {
   "cell_type": "markdown",
   "metadata": {},
   "source": [
    "以上命令会启动一个名为TurleSim的ROS程序窗口。\n",
    "\n",
    "NOTE: 窗口中间位置出现的小乌龟样子是随机的，每次可能都不一样，所有的乌龟样式参见： [many types of turtle](http://wiki.ros.org/Distributions#Current_Distribution_Releases) "
   ]
  },
  {
   "cell_type": "code",
   "execution_count": 6,
   "metadata": {},
   "outputs": [
    {
     "name": "stdout",
     "output_type": "stream",
     "text": [
      "/rosout\n",
      "/turtlesim\n"
     ]
    }
   ],
   "source": [
    "%%bash\n",
    "rosnode list"
   ]
  },
  {
   "cell_type": "markdown",
   "metadata": {},
   "source": [
    "再用rosnode list就会看到多了一个叫turtlesim的节点。\n",
    "\n",
    "ROS还能在启动节点的时候改变节点的名字，即在rosrun命令中对节点进行重命名。\n",
    "\n",
    "首先关闭刚才的TurtleSim窗口，现在加上重命名参数 [Remapping Argument](http://wiki.ros.org/Remapping%20Arguments) 来重新启动此节点:"
   ]
  },
  {
   "cell_type": "code",
   "execution_count": 7,
   "metadata": {},
   "outputs": [
    {
     "name": "stdout",
     "output_type": "stream",
     "text": [
      "Starting job # 4 in a separate thread.\n"
     ]
    }
   ],
   "source": [
    "%%bash --bg\n",
    "rosrun turtlesim turtlesim_node __name:=my_turtle"
   ]
  },
  {
   "cell_type": "markdown",
   "metadata": {},
   "source": [
    "再次运行 `rosnode list`:"
   ]
  },
  {
   "cell_type": "code",
   "execution_count": 8,
   "metadata": {},
   "outputs": [
    {
     "name": "stdout",
     "output_type": "stream",
     "text": [
      "/my_turtle\n",
      "/rosout\n"
     ]
    }
   ],
   "source": [
    "%%bash\n",
    "rosnode list"
   ]
  },
  {
   "cell_type": "markdown",
   "metadata": {},
   "source": [
    "下一节将详细介绍ROS话题： [ROS topics](ROS_Topics.ipynb) "
   ]
  },
  {
   "cell_type": "markdown",
   "metadata": {},
   "source": [
    "此时如果不再需要，可以关闭turtlesim窗口，并Run以下指令关闭现有的roscore："
   ]
  },
  {
   "cell_type": "code",
   "execution_count": 9,
   "metadata": {},
   "outputs": [],
   "source": [
    "%%bash\n",
    "killall -9 rosmaster"
   ]
  },
  {
   "cell_type": "code",
   "execution_count": null,
   "metadata": {},
   "outputs": [],
   "source": []
  }
 ],
 "metadata": {
  "kernelspec": {
   "display_name": "Python 2",
   "language": "python",
   "name": "python2"
  },
  "language_info": {
   "codemirror_mode": {
    "name": "ipython",
    "version": 2
   },
   "file_extension": ".py",
   "mimetype": "text/x-python",
   "name": "python",
   "nbconvert_exporter": "python",
   "pygments_lexer": "ipython2",
   "version": "2.7.12"
  }
 },
 "nbformat": 4,
 "nbformat_minor": 1
}

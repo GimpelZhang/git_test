{
 "cells": [
  {
   "cell_type": "markdown",
   "metadata": {},
   "source": [
    "# 传感器介绍"
   ]
  },
  {
   "cell_type": "markdown",
   "metadata": {},
   "source": [
    "## 激光雷达"
   ]
  },
  {
   "cell_type": "markdown",
   "metadata": {},
   "source": [
    "激光雷达，英文全称为Light Detection And Ranging，简称LiDAR，即光探测与测量，是一种集激光、全球定位系统（GPS）和IMU（InertialMeasurement Unit，惯性测量设备）三种技术于一身的系统，用于获得数据并生成精确的DEM（数字高程模型）。这三种技术的结合，可以高度准确地定位激光束打在物体上的光斑，测距精度可达厘米级，激光雷达最大的优势就是“精准”和“快速、高效作业”。它是一种用于精确获得3D位置信息的传感器，其在机器中的作用相当于人类的眼睛，能够确定物体的位置、大小、外部形貌甚至材质。[参考](https://cloud.tencent.com/developer/news/387139)"
   ]
  },
  {
   "cell_type": "markdown",
   "metadata": {},
   "source": [
    "### 原理：\n",
    "\n",
    "[激光雷达LIDAR工作原理](https://www.sohu.com/a/334652375_326515)"
   ]
  },
  {
   "cell_type": "markdown",
   "metadata": {},
   "source": [
    "### 分类：\n",
    "\n",
    "* 机械vs固态：旋转/固定\n",
    "* [三角测距vs飞行时间](https://blog.csdn.net/weixin_42229404/article/details/83825448)：从距离测定的原理上划分"
   ]
  },
  {
   "cell_type": "markdown",
   "metadata": {},
   "source": [
    "### 关键参数"
   ]
  },
  {
   "cell_type": "markdown",
   "metadata": {},
   "source": [
    "* 测量距离范围\n",
    "* 测量角度范围（横向、纵向）\n",
    "* 角度分辨率（横向、纵向）\n",
    "* 距离测量精度"
   ]
  },
  {
   "cell_type": "markdown",
   "metadata": {},
   "source": [
    "### [干扰因素](https://laser.ofweek.com/2020-06/ART-240001-11000-30442590.html)"
   ]
  },
  {
   "cell_type": "markdown",
   "metadata": {},
   "source": [
    "### 示例：\n",
    "* [三角测距原理的开源硬件](https://github.com/iliasam/OpenSimpleLidar)\n",
    "* [飞行时间原理的开源硬件](https://github.com/iliasam/OpenTOFLidar)\n",
    "\n",
    "关注硬件结构、测量效果、ROS驱动等方面。\n",
    "\n",
    "* [velodyne ROS驱动](https://github.com/ros-drivers/velodyne)\n",
    "* [rslidar ROS驱动](https://github.com/RoboSense-LiDAR/ros_rslidar)"
   ]
  },
  {
   "cell_type": "markdown",
   "metadata": {},
   "source": [
    "## IMU\n",
    "\n"
   ]
  }
 ],
 "metadata": {
  "kernelspec": {
   "display_name": "Python 3",
   "language": "python",
   "name": "python3"
  },
  "language_info": {
   "codemirror_mode": {
    "name": "ipython",
    "version": 2
   },
   "file_extension": ".py",
   "mimetype": "text/x-python",
   "name": "python",
   "nbconvert_exporter": "python",
   "pygments_lexer": "ipython2",
   "version": "2.7.12"
  }
 },
 "nbformat": 4,
 "nbformat_minor": 2
}

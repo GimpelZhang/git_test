{
 "cells": [
  {
   "cell_type": "markdown",
   "metadata": {},
   "source": [
    "## 3 EKF SLAM\n",
    "\n",
    "在上一节中我们看到的是扩展卡尔曼滤波在定位中的应用，EKF同样可以应用于SLAM问题中。在定位问题中，机器人接收到的观测值是其在二维空间中的x-y位置。如果机器人接收到的是跟周围环境有关的信息，例如机器人某时刻下距离某路标点的距离和角度，那么我们可以根据此时机器人自身位置的估计值，推测出该路标点在二维空间中的位置，将路标点的空间位置也作为待修正的状态量放入整个的状态向量中。\n",
    "\n",
    "由此又引出了两个子问题：数据关联和状态扩增。\n",
    "\n",
    "我们将通过以下python实例来理解ekf slam的原理：\n",
    "\n",
    "![ekf_slam](img/ekf_slam.png)\n",
    "\n",
    "- 黑色星号: 路标点真实位置\n",
    "- 绿色×: 路标点位置估计值\n",
    "- 黑色线: 航迹推测方法得出的机器人轨迹 \n",
    "- 蓝色线: 轨迹真值\n",
    "- 红色线: EKF SLAM得出的机器人轨迹"
   ]
  },
  {
   "cell_type": "markdown",
   "metadata": {},
   "source": []
  }
 ],
 "metadata": {
  "kernelspec": {
   "display_name": "Python 3",
   "language": "python",
   "name": "python3"
  },
  "language_info": {
   "codemirror_mode": {
    "name": "ipython",
    "version": 2
   },
   "file_extension": ".py",
   "mimetype": "text/x-python",
   "name": "python",
   "nbconvert_exporter": "python",
   "pygments_lexer": "ipython2",
   "version": "2.7.12"
  }
 },
 "nbformat": 4,
 "nbformat_minor": 2
}

{
 "cells": [
  {
   "cell_type": "markdown",
   "metadata": {},
   "source": [
    "## 2 扩展卡尔曼滤波EKF\n",
    "\n",
    "\n",
    "[概率机器人总结——(扩展)卡尔曼滤波先实践再推导](https://blog.csdn.net/weixin_44580210/article/details/90417331)\n",
    "\n",
    "## 3 EKF SLAM\n",
    "代码"
   ]
  }
 ],
 "metadata": {
  "kernelspec": {
   "display_name": "Python 3",
   "language": "python",
   "name": "python3"
  },
  "language_info": {
   "codemirror_mode": {
    "name": "ipython",
    "version": 2
   },
   "file_extension": ".py",
   "mimetype": "text/x-python",
   "name": "python",
   "nbconvert_exporter": "python",
   "pygments_lexer": "ipython2",
   "version": "2.7.12"
  }
 },
 "nbformat": 4,
 "nbformat_minor": 2
}

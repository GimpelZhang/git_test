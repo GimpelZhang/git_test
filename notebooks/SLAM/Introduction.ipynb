{
 "cells": [
  {
   "cell_type": "markdown",
   "metadata": {},
   "source": [
    "# SLAM算法介绍"
   ]
  },
  {
   "cell_type": "markdown",
   "metadata": {},
   "source": [
    "一个最简单的例子：\n",
    "\n",
    "[graph slam tutorial : 从推导到应用1](https://heyijia.blog.csdn.net/article/details/47686523)"
   ]
  },
  {
   "cell_type": "markdown",
   "metadata": {},
   "source": [
    "激光slam举例：cartographer\n",
    "\n",
    "视觉slam举例：VINS\n",
    "\n",
    "不同传感器在slam算法中的作用：imu\n",
    "\n",
    "1. imu在cartographer中的主要作用：通过scan match插入一帧激光建立submap前，预估机器人新位姿。\n",
    "\n",
    "2. imu在VINS中的主要作用：在“初始化”阶段，获取尺度等参数；参与VIO优化约束。"
   ]
  },
  {
   "cell_type": "code",
   "execution_count": null,
   "metadata": {},
   "outputs": [],
   "source": []
  }
 ],
 "metadata": {
  "kernelspec": {
   "display_name": "Python 3",
   "language": "python",
   "name": "python3"
  },
  "language_info": {
   "codemirror_mode": {
    "name": "ipython",
    "version": 2
   },
   "file_extension": ".py",
   "mimetype": "text/x-python",
   "name": "python",
   "nbconvert_exporter": "python",
   "pygments_lexer": "ipython2",
   "version": "2.7.12"
  }
 },
 "nbformat": 4,
 "nbformat_minor": 2
}

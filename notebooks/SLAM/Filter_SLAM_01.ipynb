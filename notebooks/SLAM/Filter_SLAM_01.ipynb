{
 "cells": [
  {
   "cell_type": "markdown",
   "metadata": {},
   "source": [
    "# EKF\n",
    "\n",
    "ekf是扩展卡尔曼滤波的缩写：Extended Kalman Filter\n",
    "\n",
    "本文将从概率论中的相关概念说起，逐步讲解到贝叶斯滤波、卡尔曼滤波、和扩展卡尔曼滤波。重点将放在两个例子上：ekf定位和ekf slam的python程序。\n",
    "\n",
    "## 卡尔曼滤波\n",
    "\n",
    "### 概率论基础\n",
    "\n",
    "### 贝叶斯滤波\n",
    "\n",
    "### 卡尔曼滤波\n",
    "\n",
    "\n",
    "## 扩展卡尔曼滤波EKF\n",
    "代码\n",
    "\n",
    "## EKF SLAM\n",
    "代码"
   ]
  },
  {
   "cell_type": "code",
   "execution_count": null,
   "metadata": {},
   "outputs": [],
   "source": []
  }
 ],
 "metadata": {
  "kernelspec": {
   "display_name": "Python 3",
   "language": "python",
   "name": "python3"
  },
  "language_info": {
   "codemirror_mode": {
    "name": "ipython",
    "version": 2
   },
   "file_extension": ".py",
   "mimetype": "text/x-python",
   "name": "python",
   "nbconvert_exporter": "python",
   "pygments_lexer": "ipython2",
   "version": "2.7.12"
  }
 },
 "nbformat": 4,
 "nbformat_minor": 2
}

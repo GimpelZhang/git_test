{
 "cells": [
  {
   "cell_type": "markdown",
   "metadata": {},
   "source": [
    "# Linux命令行操作及Shell编程基础"
   ]
  },
  {
   "cell_type": "markdown",
   "metadata": {},
   "source": [
    "## Linux命令行操作介绍"
   ]
  },
  {
   "cell_type": "markdown",
   "metadata": {},
   "source": [
    "在linux系统中，可以通过简单的Ctrl+Alt+T的方式打开一个terminal，在terminal中可以输入命令执行各种操作，有的操作是执行某种功能，有的操作是获取某些信息等等。"
   ]
  },
  {
   "cell_type": "markdown",
   "metadata": {},
   "source": [
    "* 注：以下jupyter notebook的内容中，command=之后，“”之中的内容可以直接输入linux的terminal执行。"
   ]
  },
  {
   "cell_type": "markdown",
   "metadata": {},
   "source": [
    "参考链接：[linux基本命令（很全的）](https://blog.csdn.net/lykangjia/article/details/11655887)\n",
    "\n",
    "在Linux中，所有设备都是用文件名来表示的，就像我们在分区时所了解的那样，这与我们所熟悉的Windows系统有很大不同，Linux中并没有所谓C盘、D盘之类的说法，并且在Linux中只有文件和目录（相当于Windows中的文件夹），所有文件和目录都以倒树状结构挂载在“/”（读做根目录）目录下，也正是因此Linux系统的管理员称为root（树根）"
   ]
  },
  {
   "cell_type": "markdown",
   "metadata": {},
   "source": [
    "在Linux中如果要执行一个命令则可以通过如下方式：\n",
    "```bash\n",
    "$ 命令名  [-选项]  参数\n",
    "\n",
    "```\n",
    "\n",
    "需要注意的是，命令名、选项或者参数之间都是至少要有一个空格，多个空格没有关系，选项不是必需的。当有多个选项时，可以写在一起。因为Linux基本是由C语言编写的，所以无论命令名或选项，Linux都是严格区分大小写的。\n",
    "\n",
    "在了解了以上基本的内容后，下面就来详细地介绍Linux的基本命令。"
   ]
  },
  {
   "cell_type": "markdown",
   "metadata": {},
   "source": [
    "#### sudo\n",
    "\n",
    "如果linux的某些命令运行时遇到权限问题，可选择使用sudo：\n",
    "\n",
    "\n",
    "```bash\n",
    "$ sudo 命令名\n",
    "\n",
    "```\n",
    "\n",
    "表示用root权限来执行某些命令，可能会要求输入系统密码"
   ]
  },
  {
   "cell_type": "markdown",
   "metadata": {},
   "source": [
    "#### 列出文件清单命令：ls\n",
    "\n",
    "ls命令能够列出当前目录下的所有内容。ls 命令的执行方式为：\n",
    "\n",
    "```bash\n",
    "$ ls  [-选项]  [文件名或者目录名]\n",
    "\n",
    "```\n",
    "\n",
    "在Linux中，ls命令是最常使用的命令之一，因为在命令行下要随时查看目录内容。如果不加任何选项的话，ls命令仅列出当前目录下的文件和目录名，例如，想要查看/etc目录下的内容，可以使用下列命令："
   ]
  },
  {
   "cell_type": "code",
   "execution_count": 1,
   "metadata": {},
   "outputs": [
    {
     "name": "stdout",
     "output_type": "stream",
     "text": [
      "acpi\t\t\t       hosts.deny\tpolkit-1\r\n",
      "adduser.conf\t\t       hp\t\tpopularity-contest.conf\r\n",
      "alternatives\t\t       ifplugd\t\tppp\r\n",
      "anacrontab\t\t       iftab\t\tpresage.xml\r\n",
      "apache2\t\t\t       ImageMagick-6\tprintcap\r\n",
      "apg.conf\t\t       init\t\tprofile\r\n",
      "apm\t\t\t       init.d\t\tprofile.d\r\n",
      "apparmor\t\t       initramfs-tools\tprotocols\r\n",
      "apparmor.d\t\t       inputrc\t\tpulse\r\n",
      "apport\t\t\t       insserv\t\tpython\r\n",
      "appstream.conf\t\t       insserv.conf\tpython2.7\r\n",
      "apt\t\t\t       insserv.conf.d\tpython3\r\n",
      "aptdaemon\t\t       iproute2\t\tpython3.5\r\n",
      "at-spi2\t\t\t       issue\t\trc0.d\r\n",
      "avahi\t\t\t       issue.net\trc1.d\r\n",
      "bash.bashrc\t\t       java-8-openjdk\trc2.d\r\n",
      "bash_completion\t\t       kbd\t\trc3.d\r\n",
      "bash_completion.d\t       kernel\t\trc4.d\r\n",
      "bindresvport.blacklist\t       kernel-img.conf\trc5.d\r\n",
      "binfmt.d\t\t       kerneloops.conf\trc6.d\r\n",
      "bluetooth\t\t       ldap\t\trc.local\r\n",
      "brlapi.key\t\t       ld.so.cache\trcS.d\r\n",
      "brltty\t\t\t       ld.so.conf\tresolvconf\r\n",
      "brltty.conf\t\t       ld.so.conf.d\tresolv.conf\r\n",
      "ca-certificates\t\t       legal\t\trmt\r\n",
      "ca-certificates.conf\t       libao.conf\tros\r\n",
      "ca-certificates.conf.dpkg-old  libaudit.conf\trpc\r\n",
      "calendar\t\t       libnl-3\t\trsyslog.conf\r\n",
      "chatscripts\t\t       libpaper.d\trsyslog.d\r\n",
      "checkinstallrc\t\t       libreoffice\tsane.d\r\n",
      "chrony\t\t\t       lightdm\t\tsbcl.rc\r\n",
      "compizconfig\t\t       lighttpd\t\tsecuretty\r\n",
      "console-setup\t\t       lintianrc\tsecurity\r\n",
      "cracklib\t\t       locale.alias\tselinux\r\n",
      "cron.d\t\t\t       locale.gen\tsensors3.conf\r\n",
      "cron.daily\t\t       localtime\tsensors.d\r\n",
      "cron.hourly\t\t       logcheck\t\tservices\r\n",
      "cron.monthly\t\t       login.defs\tsgml\r\n",
      "crontab\t\t\t       logrotate.conf\tshadow\r\n",
      "cron.weekly\t\t       logrotate.d\tshadow-\r\n",
      "cups\t\t\t       lsb-release\tshells\r\n",
      "cupshelpers\t\t       ltrace.conf\tsignond.conf\r\n",
      "dbus-1\t\t\t       machine-id\tsignon-ui\r\n",
      "dconf\t\t\t       machine-info\tskel\r\n",
      "debconf.conf\t\t       magic\t\tspeech-dispatcher\r\n",
      "debian_version\t\t       magic.mime\tssh\r\n",
      "default\t\t\t       mailcap\t\tssl\r\n",
      "deluser.conf\t\t       mailcap.order\tsubgid\r\n",
      "depmod.d\t\t       manpath.config\tsubgid-\r\n",
      "dhcp\t\t\t       matplotlibrc\tsubuid\r\n",
      "dictionaries-common\t       mercurial\tsubuid-\r\n",
      "dnsmasq.d\t\t       mime.types\tsubversion\r\n",
      "doc-base\t\t       mke2fs.conf\tsudoers\r\n",
      "dpkg\t\t\t       modprobe.d\tsudoers.d\r\n",
      "drirc\t\t\t       modules\t\tsysctl.conf\r\n",
      "emacs\t\t\t       modules-load.d\tsysctl.d\r\n",
      "environment\t\t       mono\t\tsystemd\r\n",
      "firefox\t\t\t       mtab\t\tterminfo\r\n",
      "fonts\t\t\t       mtools.conf\tthermald\r\n",
      "fstab\t\t\t       mysql\t\tthunderbird\r\n",
      "fuse.conf\t\t       nanorc\t\ttimezone\r\n",
      "fwupd.conf\t\t       network\t\ttimidity\r\n",
      "gai.conf\t\t       NetworkManager\ttmpfiles.d\r\n",
      "gconf\t\t\t       networks\t\tucf.conf\r\n",
      "gdb\t\t\t       newt\t\tudev\r\n",
      "ghostscript\t\t       nsswitch.conf\tudisks2\r\n",
      "gnome\t\t\t       ODBCDataSources\tufw\r\n",
      "gnome-app-install\t       odbc.ini\t\tupdatedb.conf\r\n",
      "groff\t\t\t       odbcinst.ini\tupdate-manager\r\n",
      "group\t\t\t       openal\t\tupdate-motd.d\r\n",
      "group-\t\t\t       openmpi\t\tupdate-notifier\r\n",
      "grub.d\t\t\t       openni\t\tUPower\r\n",
      "gshadow\t\t\t       opt\t\tupstart-xsessions\r\n",
      "gshadow-\t\t       os-release\tusb_modeswitch.conf\r\n",
      "gss\t\t\t       pam.conf\t\tusb_modeswitch.d\r\n",
      "gtk-2.0\t\t\t       pam.d\t\tvim\r\n",
      "gtk-3.0\t\t\t       papersize\tvtrgb\r\n",
      "guest-session\t\t       passwd\t\twgetrc\r\n",
      "hddtemp.db\t\t       passwd-\t\twhoopsie\r\n",
      "hdparm.conf\t\t       pcmcia\t\twpa_supplicant\r\n",
      "host.conf\t\t       perl\t\tX11\r\n",
      "hostname\t\t       pki\t\txdg\r\n",
      "hosts\t\t\t       pm\t\txml\r\n",
      "hosts.allow\t\t       pnm2ppa.conf\tzsh_command_not_found\r\n"
     ]
    }
   ],
   "source": [
    "command = \"ls /etc\"\n",
    "!$command"
   ]
  },
  {
   "cell_type": "markdown",
   "metadata": {},
   "source": [
    "#### 查看当前路径命令：pwd"
   ]
  },
  {
   "cell_type": "code",
   "execution_count": 2,
   "metadata": {},
   "outputs": [
    {
     "name": "stdout",
     "output_type": "stream",
     "text": [
      "/home/junchuan/git_test/notebooks\r\n"
     ]
    }
   ],
   "source": [
    "command = \"pwd\"\n",
    "!$command"
   ]
  },
  {
   "cell_type": "markdown",
   "metadata": {},
   "source": [
    "#### 用$符号加变量名称的方法查看已有变量的值\n",
    "\n",
    "例如：$HOME将返回HOME这个变量的值，也就是本机/home路径"
   ]
  },
  {
   "cell_type": "code",
   "execution_count": 3,
   "metadata": {},
   "outputs": [
    {
     "name": "stdout",
     "output_type": "stream",
     "text": [
      "/bin/sh: 1: /home/junchuan: Permission denied\r\n"
     ]
    }
   ],
   "source": [
    "command = \"$HOME\"\n",
    "!$command"
   ]
  },
  {
   "cell_type": "markdown",
   "metadata": {},
   "source": [
    "#### 创建目录命令：mkdir\n",
    "\n",
    "mkdir 命令能够创建一个目录。mkdir 命令的执行方式为：\n",
    "\n",
    "```bash\n",
    "$ mkdir [目录名]\n",
    "\n",
    "```\n",
    "\n",
    "其实一个目录就是一个特殊类型的文件，就如同Windows中的文件夹一样，目录里面既可以有文件，也可以有子目录，就是因为有目录的存在，Linux才能够以一种目录树的结构对文件系统进行管理。"
   ]
  },
  {
   "cell_type": "code",
   "execution_count": 4,
   "metadata": {},
   "outputs": [],
   "source": [
    "command = \"mkdir test_dir\"\n",
    "!$command"
   ]
  },
  {
   "cell_type": "markdown",
   "metadata": {},
   "source": [
    "此时可在本jupyter notebook所在文件夹内看到一个名为test_dir的文件夹。\n",
    "\n",
    "创建完目录后可以使用ls –l命令去查看目录是否建立成功。如果directory所在行的第一个字母为d，则说明建立成功。"
   ]
  },
  {
   "cell_type": "code",
   "execution_count": 5,
   "metadata": {},
   "outputs": [
    {
     "name": "stdout",
     "output_type": "stream",
     "text": [
      "total 16\r\n",
      "-rw-rw-r-- 1 junchuan junchuan 9977 7月  31 10:02 shell_tutorials.ipynb\r\n",
      "drwxrwxr-x 2 junchuan junchuan 4096 7月  31 10:01 test_dir\r\n"
     ]
    }
   ],
   "source": [
    "command = \"ls -l\"\n",
    "!$command"
   ]
  },
  {
   "cell_type": "markdown",
   "metadata": {},
   "source": [
    "另有删除空目录命令：rmdir，例如可以将刚刚创建的test_dir空文件夹删掉："
   ]
  },
  {
   "cell_type": "code",
   "execution_count": 6,
   "metadata": {},
   "outputs": [],
   "source": [
    "command = \"rmdir test_dir\"\n",
    "!$command"
   ]
  },
  {
   "cell_type": "markdown",
   "metadata": {},
   "source": [
    "#### 启动一个文本编辑器gedit\n",
    "\n",
    "gedit可以创建新文本文件、打开并修改已有文本文件。\n",
    "\n",
    "只输入gedit会打开gedit编辑器，使用：\n",
    "\n",
    "```bash\n",
    "$ gedit [文件路径和文件名]\n",
    "\n",
    "```\n",
    "\n",
    "可在指定文件路径位置创建指定名称的文本文件（打开已有文本文件同理）\n",
    "\n",
    "例如在本目录下创建名为test.txt的文件："
   ]
  },
  {
   "cell_type": "code",
   "execution_count": 7,
   "metadata": {},
   "outputs": [],
   "source": [
    "command = \"gedit test.txt\"\n",
    "!$command"
   ]
  },
  {
   "cell_type": "markdown",
   "metadata": {},
   "source": [
    "此时可以看到在屏幕左侧标签栏会新打开一个“Text Editor”，显示正编辑一个test.txt文件，如果不做输入也不点击保存直接关闭此文件的话，此文件不会保留。"
   ]
  },
  {
   "cell_type": "markdown",
   "metadata": {},
   "source": [
    "## Shell编程基础"
   ]
  },
  {
   "cell_type": "markdown",
   "metadata": {},
   "source": [
    "简单地说，shell脚本文件就是将可以在linux命令行运行的命令加以组合、使其能实现更多功能的“可执行”文件。常用于实现程序的下载编译、自动化启动执行一系列程序等。\n",
    "\n",
    "具体介绍可参见链接：[Shell编程基础](https://wiki.ubuntu.org.cn/Shell%E7%BC%96%E7%A8%8B%E5%9F%BA%E7%A1%80)\n",
    "\n",
    "* 执行一个脚本文件，首先用“chmod +x 文件”赋予权限，再在文件所在文件夹路径下执行：./文件\n",
    "\n",
    "下面将通过实例进行简要介绍。"
   ]
  },
  {
   "cell_type": "markdown",
   "metadata": {},
   "source": [
    "#### 实例linux_command_examples.sh\n",
    "\n",
    "scripts文件夹中的linux_command_examples.sh文件将上一节的linux命令进行了组合，全文及分析如下：\n",
    "\n",
    "```bash\n",
    "#!/bin/bash\n",
    "\n",
    "echo \"The examples begin:\"\n",
    "\n",
    "cd $HOME\n",
    "mkdir test_dir\n",
    "gedit test_dir/test_file.txt\n",
    "\n",
    "echo \"The examples end.\"\n",
    "\n",
    "```\n",
    "\n",
    "shell脚本，它必须以如下行开始（必须放在文件的第一行）：\n",
    "\n",
    "```bash\n",
    "#!/bin/bash\n",
    "\n",
    "```\n",
    "\n",
    "此行称为 shebang（就是 sharp (#) + bang (!) 的意思），会指引操作系统使用接下来指定的程序运行此文件。此处 /bin/bash 执行我们的文件。\n",
    "\n",
    "\n",
    "```bash\n",
    "echo \"The examples begin:\"\n",
    "\n",
    "```\n",
    "\n",
    "echo会将后面跟随的引号内的内容显示到terminal中。\n",
    "\n",
    "```bash\n",
    "cd $HOME\n",
    "\n",
    "```\n",
    "\n",
    "将要操作的文件夹转向本机的/home文件夹\n",
    "\n",
    "```bash\n",
    "mkdir test_dir\n",
    "\n",
    "```\n",
    "\n",
    "在本机/home文件夹下建立test_dir文件夹\n",
    "\n",
    "```bash\n",
    "gedit test_dir/test_file.txt\n",
    "\n",
    "```\n",
    "\n",
    "在刚刚建立的test_dir文件夹中新建一个名为test_file.txt的文件，并用gedit进行编辑。\n",
    "\n",
    "如果在gedit中输入文字并保存，或者直接保存，则在/home文件夹下的test_dir中就会保留一个文件：test_file.txt"
   ]
  },
  {
   "cell_type": "markdown",
   "metadata": {},
   "source": [
    "在jupyter notebook中执行此脚本文件："
   ]
  },
  {
   "cell_type": "code",
   "execution_count": 8,
   "metadata": {},
   "outputs": [
    {
     "name": "stdout",
     "output_type": "stream",
     "text": [
      "The examples begin:\r\n",
      "The examples end.\r\n"
     ]
    }
   ],
   "source": [
    "command = \"cd ../scripts/;./linux_command_examples.sh\"\n",
    "!$command"
   ]
  },
  {
   "cell_type": "markdown",
   "metadata": {},
   "source": [
    "保存此test_file.txt，然后可以用ls命令查看此文件是否存在："
   ]
  },
  {
   "cell_type": "code",
   "execution_count": 9,
   "metadata": {},
   "outputs": [
    {
     "name": "stdout",
     "output_type": "stream",
     "text": [
      "test_file.txt\r\n"
     ]
    }
   ],
   "source": [
    "command = \"ls $HOME/test_dir/\"\n",
    "!$command"
   ]
  },
  {
   "cell_type": "markdown",
   "metadata": {},
   "source": [
    "#### 实例install_ros_kinetic.sh\n",
    "\n",
    "scripts文件夹中还存有一个install_ros_kinetic.sh文件，是用来在本地安装机器人操作系统ROS-kinetic的，全文及分析如下："
   ]
  },
  {
   "cell_type": "markdown",
   "metadata": {},
   "source": [
    "```bash\n",
    "#!/bin/bash\n",
    "# Apache License 2.0\n",
    "# Copyright (c) 2017, ROBOTIS CO., LTD.\n",
    "\n",
    "echo \"\"\n",
    "echo \"[Note] Target OS version  >>> Ubuntu 16.04.x (xenial) or Linux Mint 18.x\"\n",
    "echo \"[Note] Target ROS version >>> ROS Kinetic Kame\"\n",
    "echo \"[Note] Catkin workspace   >>> $HOME/catkin_ws\"\n",
    "echo \"\"\n",
    "echo \"PRESS [ENTER] TO CONTINUE THE INSTALLATION\"\n",
    "echo \"IF YOU WANT TO CANCEL, PRESS [CTRL] + [C]\"\n",
    "\n",
    "用read命令获取用户在terminal中的键盘输入：\n",
    "read\n",
    "\n",
    "echo \"[Set the target OS, ROS version and name of catkin workspace]\"\n",
    "\n",
    "对以下几个变量赋值：\n",
    "这种 变量名=${变量名:=\"变量内容\"} 的写法，意思是如果这个变量是空的或者未赋初值，则对其进行赋值，否则就不赋值。\n",
    "name_os_version=${name_os_version:=\"xenial\"}\n",
    "name_ros_version=${name_ros_version:=\"kinetic\"}\n",
    "name_catkin_workspace=${name_catkin_workspace:=\"catkin_ws\"}\n",
    "\n",
    "echo \"[Update the package lists and upgrade them]\"\n",
    "\n",
    "对本地软件库进行更新升级，变量-y的意思是在可能随后出现的命令行交互提示中，直接输入 yes\n",
    "sudo apt-get update -y\n",
    "sudo apt-get upgrade -y\n",
    "\n",
    "echo \"[Install build environment, the chrony, ntpdate and set the ntpdate]\"\n",
    "\n",
    "安装以下几个程序：\n",
    "sudo apt-get install -y chrony ntpdate build-essential\n",
    "命令用于同步更新互联网时间，或者NTP服务器时间（不重要）：\n",
    "sudo ntpdate ntp.ubuntu.com\n",
    "\n",
    "echo \"[Add the ROS repository]\"\n",
    "\n",
    "shell中可以采用if来进行条件判断，以fi结尾。if后面的[]里是判断条件，-e表示文件存在时返回true\n",
    "以下命令表示，如果/etc/apt/sources.list.d/ros-latest.list不存在，那么：\n",
    "创建该文件并将deb http://packages.ros.org/ros/ubuntu xenial main写入该文件，该文件记录着程序包的下载源；\n",
    "if [ ! -e /etc/apt/sources.list.d/ros-latest.list ]; then\n",
    "  ”sh -c“表示执行-c后面的字符串中的命令\n",
    "  sudo sh -c \"echo \\\"deb http://packages.ros.org/ros/ubuntu ${name_os_version} main\\\" > /etc/apt/sources.list.d/ros-latest.list\"\n",
    "fi\n",
    "\n",
    "echo \"[Download the ROS keys]\"\n",
    "对roskey变量赋值，所赋的值为apt-key list | grep \"Open Robotics\"命令的返回值\n",
    "roskey=`apt-key list | grep \"Open Robotics\"`\n",
    "-z表示如果变量roskey的长度是zero，也就是说apt-key list | grep \"Open Robotics\"命令没有返回值，也就是说apt-key列表中没有\"Open Robotics\"相关的条目，那么把以下内容写入apt-key，可看做下载安装ros时所需要的秘钥：\n",
    "if [ -z \"$roskey\" ]; then\n",
    "  sudo apt-key adv --keyserver hkp://keyserver.ubuntu.com:80 --recv-key C1CF6E31E6BADE8868B172B4F42ED6FBAB17C654\n",
    "fi\n",
    "\n",
    "echo \"[Check the ROS keys]\"\n",
    "roskey=`apt-key list | grep \"Open Robotics\"`\n",
    "执行同样的操作检查上面步骤中添加秘钥是否成功：\n",
    "-n表示如果变量roskey的长度不为0，代表成功添加秘钥\n",
    "if [ -n \"$roskey\" ]; then\n",
    "  echo \"[ROS key exists in the list]\"\n",
    "else\n",
    "  如果因为某种原因添加秘钥失败，退出此脚本\n",
    "  echo \"[Failed to receive the ROS key, aborts the installation]\"\n",
    "  exit 0\n",
    "fi\n",
    "\n",
    "echo \"[Update the package lists and upgrade them]\"\n",
    "在添加了下载源和秘钥之后，需要做更新升级：\n",
    "sudo apt-get update -y\n",
    "sudo apt-get upgrade -y\n",
    "\n",
    "echo \"[Install the ros-desktop-full and all rqt plugins]\"\n",
    "关键步骤：下载并安装ros-kinetic程序包和相关程序包：\n",
    "sudo apt-get install -y ros-$name_ros_version-desktop-full ros-$name_ros_version-rqt-*\n",
    "\n",
    "echo \"[Initialize rosdep]\"\n",
    "执行ros-kinetic规定的初始化和更新步骤：\n",
    "sudo sh -c \"rosdep init\"\n",
    "rosdep update\n",
    "\n",
    "echo \"[Environment setup and getting rosinstall]\"\n",
    "环境配置、下载安装其他程序：\n",
    "source /opt/ros/$name_ros_version/setup.sh\n",
    "sudo apt-get install -y python-rosinstall\n",
    "\n",
    "echo \"[Make the catkin workspace and test the catkin_make]\"\n",
    "执行对catkin_make的测试：\n",
    "首先建立catkin_ws文件夹\n",
    "mkdir -p $HOME/$name_catkin_workspace/src\n",
    "cd $HOME/$name_catkin_workspace/src\n",
    "初始化workspace\n",
    "catkin_init_workspace\n",
    "cd $HOME/$name_catkin_workspace\n",
    "执行catkin_make\n",
    "catkin_make\n",
    "\n",
    "echo \"[Set the ROS evironment]\"\n",
    "以下是对ROS环境的配置，将以下各行文字写入~/.bashrc文件：\n",
    "sh -c \"echo \\\"alias eb='nano ~/.bashrc'\\\" >> ~/.bashrc\"\n",
    "sh -c \"echo \\\"alias sb='source ~/.bashrc'\\\" >> ~/.bashrc\"\n",
    "sh -c \"echo \\\"alias gs='git status'\\\" >> ~/.bashrc\"\n",
    "sh -c \"echo \\\"alias gp='git pull'\\\" >> ~/.bashrc\"\n",
    "sh -c \"echo \\\"alias cw='cd ~/$name_catkin_workspace'\\\" >> ~/.bashrc\"\n",
    "sh -c \"echo \\\"alias cs='cd ~/$name_catkin_workspace/src'\\\" >> ~/.bashrc\"\n",
    "sh -c \"echo \\\"alias cm='cd ~/$name_catkin_workspace && catkin_make'\\\" >> ~/.bashrc\"\n",
    "\n",
    "sh -c \"echo \\\"source /opt/ros/$name_ros_version/setup.bash\\\" >> ~/.bashrc\"\n",
    "sh -c \"echo \\\"source ~/$name_catkin_workspace/devel/setup.bash\\\" >> ~/.bashrc\"\n",
    "\n",
    "sh -c \"echo \\\"export ROS_MASTER_URI=http://localhost:11311\\\" >> ~/.bashrc\"\n",
    "sh -c \"echo \\\"export ROS_HOSTNAME=localhost\\\" >> ~/.bashrc\"\n",
    "\n",
    "source $HOME/.bashrc\n",
    "\n",
    "echo \"[Complete!!!]\"\n",
    "完成、退出\n",
    "exit 0\n",
    "\n",
    "```\n"
   ]
  },
  {
   "cell_type": "markdown",
   "metadata": {},
   "source": [
    "在scripts文件夹下，输入：\n",
    "\n",
    "```bash\n",
    "./install_ros_kinetic.sh\n",
    "\n",
    "```\n",
    "\n",
    "执行此脚本文件，就会在本地系统安装机器人操作系统ROS的kinetic分支。"
   ]
  },
  {
   "cell_type": "code",
   "execution_count": null,
   "metadata": {},
   "outputs": [],
   "source": []
  }
 ],
 "metadata": {
  "kernelspec": {
   "display_name": "Python 3",
   "language": "python",
   "name": "python3"
  },
  "language_info": {
   "codemirror_mode": {
    "name": "ipython",
    "version": 2
   },
   "file_extension": ".py",
   "mimetype": "text/x-python",
   "name": "python",
   "nbconvert_exporter": "python",
   "pygments_lexer": "ipython2",
   "version": "2.7.12"
  }
 },
 "nbformat": 4,
 "nbformat_minor": 2
}

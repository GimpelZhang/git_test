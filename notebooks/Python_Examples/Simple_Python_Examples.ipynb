{
 "cells": [
  {
   "cell_type": "markdown",
   "metadata": {},
   "source": [
    "# 简单的python应用实例"
   ]
  },
  {
   "cell_type": "code",
   "execution_count": 59,
   "metadata": {},
   "outputs": [],
   "source": [
    "def OddEven(num):\n",
    "    \"\"\"判断奇偶\"\"\"\n",
    "    if num%2 == 0:\n",
    "        print(\"Even\") ### 被2整除，是偶数\n",
    "    else:\n",
    "        print(\"Odd\")"
   ]
  },
  {
   "cell_type": "code",
   "execution_count": 60,
   "metadata": {},
   "outputs": [
    {
     "name": "stdout",
     "output_type": "stream",
     "text": [
      "Odd\n",
      "Even\n",
      "Odd\n"
     ]
    }
   ],
   "source": [
    "OddEven(1)\n",
    "OddEven(22)\n",
    "OddEven(33)"
   ]
  },
  {
   "cell_type": "code",
   "execution_count": 4,
   "metadata": {},
   "outputs": [],
   "source": [
    "import math\n",
    "### 这里要用到math包中的函数\n",
    "\n",
    "def prime(n):\n",
    "    \"\"\"判断质数\"\"\"\n",
    "    ### 先对输入的数开根号，并向上取整，得到输入数字n的平方根val\n",
    "    val = math.ceil(math.sqrt(n))\n",
    "    for i in range(2,int(val)):\n",
    "        ### 遍历从2到n的平方根val，如果n能够被其中任意一个数整除，则该数不是质数：\n",
    "        if(n % i) == 0:\n",
    "            return(\"Not Prime\")\n",
    "        else:\n",
    "            return(\"Prime\")"
   ]
  },
  {
   "cell_type": "code",
   "execution_count": 7,
   "metadata": {},
   "outputs": [
    {
     "name": "stdout",
     "output_type": "stream",
     "text": [
      "Not Prime , Prime , Prime , Not Prime\n"
     ]
    }
   ],
   "source": [
    "print(prime(20),',',prime(179),',',prime(461),',',prime(2020))"
   ]
  },
  {
   "cell_type": "code",
   "execution_count": 18,
   "metadata": {},
   "outputs": [],
   "source": [
    "### 字符串操作：\n",
    "\n",
    "def checkPalindrome():\n",
    "    \"\"\"是否回文\"\"\"\n",
    "    string = input(\"Enter a string: \") # input函数获取用户在terminal中的输入\n",
    "    if(string == string[::-1]):   # [::-1]表示把一个字符串反向\n",
    "            return(\"是回文\")\n",
    "    else:\n",
    "            return(\"不是回文\")\n",
    "\n",
    "def readConcatenate():\n",
    "    \"\"\"合并\"\"\"\n",
    "    str1 = input(\"Enter a string: \")\n",
    "    str2 = input(\"Enter the second string: \")\n",
    "    print(str1)\n",
    "    print(str2)\n",
    "    print(str1 + str2)\n",
    "    \n",
    "def countVowCons():\n",
    "    \"\"\"计算元音字母辅音字母的个数\"\"\"\n",
    "    string = input(\"Enter a string: \")\n",
    "    # 把输入的字符串全部转化为小写，这样就不用判断AEIOU了\n",
    "    string_lower = string.lower()\n",
    "        \n",
    "    count = 0\n",
    "    for i in range(0,len(string_lower)):\n",
    "            if(string_lower[i] == 'a'):\n",
    "                    count += 1\n",
    "            if(string_lower[i] == 'e'):\n",
    "                    count += 1\n",
    "            if(string_lower[i] == 'i'):\n",
    "                    count += 1\n",
    "            if(string_lower[i] == 'o'):\n",
    "                    count += 1\n",
    "            if(string_lower[i] == 'u'):\n",
    "                    count += 1\n",
    "    print(\"元音字母的个数: \"+ str(count)) \n",
    "    print(\"辅音字母的个数: \"+ str(len(string_lower)-count))\n",
    "\n",
    "def substringInString():\n",
    "    \"\"\"判断是否包含\"\"\"\n",
    "    string = input(\"Enter a string: \")\n",
    "    sub_string = input(\"Enter a substring: \")\n",
    "    # find函数用来在字符串中查找特定元素，如果没找到，返回-1\n",
    "    var = string.find(sub_string)\n",
    "    if(var != (-1)):\n",
    "            print(\"Successful\")\n",
    "    else:\n",
    "            print(\":( Unsuccessful\")\n",
    "                \n",
    "def sumNumbersString():\n",
    "    \"\"\"求字符串中所有数字的和\"\"\"  \n",
    "    string = input(\"Enter a string: \")\n",
    "    sum = 0\n",
    "    for i in range(0,len(string)):\n",
    "        # 用isdigit判读是否是数字，如果是数字，要将字符串的元素转化为int型\n",
    "        if(string[i].isdigit() == True):\n",
    "            sum = sum + int(string[i])\n",
    "    return sum"
   ]
  },
  {
   "cell_type": "code",
   "execution_count": 11,
   "metadata": {},
   "outputs": [
    {
     "name": "stdout",
     "output_type": "stream",
     "text": [
      "Enter a string: abcdedbca\n"
     ]
    },
    {
     "data": {
      "text/plain": [
       "'不是回文'"
      ]
     },
     "execution_count": 11,
     "metadata": {},
     "output_type": "execute_result"
    }
   ],
   "source": [
    "checkPalindrome()"
   ]
  },
  {
   "cell_type": "code",
   "execution_count": 12,
   "metadata": {},
   "outputs": [
    {
     "name": "stdout",
     "output_type": "stream",
     "text": [
      "Enter a string: 123abba321\n"
     ]
    },
    {
     "data": {
      "text/plain": [
       "'是回文'"
      ]
     },
     "execution_count": 12,
     "metadata": {},
     "output_type": "execute_result"
    }
   ],
   "source": [
    "checkPalindrome()"
   ]
  },
  {
   "cell_type": "code",
   "execution_count": 13,
   "metadata": {},
   "outputs": [
    {
     "name": "stdout",
     "output_type": "stream",
     "text": [
      "Enter a string: aaabbbccc\n",
      "Enter the second string: dddeeefff\n",
      "aaabbbccc\n",
      "dddeeefff\n",
      "aaabbbcccdddeeefff\n"
     ]
    }
   ],
   "source": [
    "readConcatenate()"
   ]
  },
  {
   "cell_type": "code",
   "execution_count": 14,
   "metadata": {},
   "outputs": [
    {
     "name": "stdout",
     "output_type": "stream",
     "text": [
      "Enter a string: jaoiwnv;aiwjsvoiuzkbglmnwel;awoci;j:AN\n",
      "元音字母的个数: 13\n",
      "辅音字母的个数: 25\n"
     ]
    }
   ],
   "source": [
    "countVowCons()"
   ]
  },
  {
   "cell_type": "code",
   "execution_count": 15,
   "metadata": {},
   "outputs": [
    {
     "name": "stdout",
     "output_type": "stream",
     "text": [
      "Enter a string: Afjdlchangshu\n",
      "Enter a substring: eeccb\n",
      ":( Unsuccessful\n"
     ]
    }
   ],
   "source": [
    "substringInString()"
   ]
  },
  {
   "cell_type": "code",
   "execution_count": 16,
   "metadata": {},
   "outputs": [
    {
     "name": "stdout",
     "output_type": "stream",
     "text": [
      "Enter a string: Afjdlchangshu\n",
      "Enter a substring: dlch\n",
      "Successful\n"
     ]
    }
   ],
   "source": [
    "substringInString()"
   ]
  },
  {
   "cell_type": "code",
   "execution_count": 19,
   "metadata": {},
   "outputs": [
    {
     "name": "stdout",
     "output_type": "stream",
     "text": [
      "Enter a string: joi248aovnogu82alw4nva;gjaw0ahg8\n",
      "36\n"
     ]
    }
   ],
   "source": [
    "print(sumNumbersString())"
   ]
  },
  {
   "cell_type": "code",
   "execution_count": 24,
   "metadata": {},
   "outputs": [],
   "source": [
    "class Solution(object):\n",
    "    def twoSum(self, nums, target):\n",
    "        \"\"\"\n",
    "        找到nums中两个相加等于target的数，返回两个数的序号\n",
    "        :type nums: List[int]\n",
    "        :type target: int\n",
    "        :rtype: List[int]\n",
    "        \"\"\"\n",
    "        ### 声明一个空字典：\n",
    "        d = {}\n",
    "        ### 枚举函数enumerate返回nums列表的每个元素的序号和值：\n",
    "        for index, value in enumerate(nums):\n",
    "            ### 用target减去nums中的每一个数，差再和后一个数比较，\n",
    "            ### 如果和后一个数相等，返回结果，如果不相等，把这个数连同序号存入字典d\n",
    "            if value in d:\n",
    "                return [d[value], index]\n",
    "            else:\n",
    "                d[target - value] = index"
   ]
  },
  {
   "cell_type": "code",
   "execution_count": 25,
   "metadata": {},
   "outputs": [],
   "source": [
    "nums = [5, 66, 2, 7, 11, 15]\n",
    "target = 13"
   ]
  },
  {
   "cell_type": "code",
   "execution_count": 26,
   "metadata": {},
   "outputs": [],
   "source": [
    "s=Solution()"
   ]
  },
  {
   "cell_type": "code",
   "execution_count": 27,
   "metadata": {},
   "outputs": [
    {
     "data": {
      "text/plain": [
       "[2, 4]"
      ]
     },
     "execution_count": 27,
     "metadata": {},
     "output_type": "execute_result"
    }
   ],
   "source": [
    "s.twoSum(nums,target)"
   ]
  },
  {
   "cell_type": "code",
   "execution_count": 34,
   "metadata": {},
   "outputs": [],
   "source": [
    "class Solution(object):\n",
    "    def reverse(self, x):\n",
    "        \"\"\"\n",
    "        将一个数字反向。数字范围限制在32位的int以内，即超过2的31次方返回0即可。\n",
    "        :type x: int\n",
    "        :rtype: int\n",
    "        \"\"\"\n",
    "        ### 将输入的整数转化为字符串，方便按位置进行操作\n",
    "        arr_input = str(x)\n",
    "\n",
    "        ### 如果是负数：\n",
    "        if arr_input[0] == \"-\":\n",
    "            result = (int(\"-\" + arr_input[:0:-1]))\n",
    "\n",
    "        ### 如果是正数：\n",
    "        else:\n",
    "            result = (int(arr_input[::-1]))\n",
    "\n",
    "        ### 如果反转的结果超过了2的31次方：\n",
    "        if abs(result) > 2 ** 31:\n",
    "            return (0)\n",
    "        else:\n",
    "            return (result)"
   ]
  },
  {
   "cell_type": "code",
   "execution_count": 35,
   "metadata": {},
   "outputs": [],
   "source": [
    "s = Solution()"
   ]
  },
  {
   "cell_type": "code",
   "execution_count": 36,
   "metadata": {},
   "outputs": [
    {
     "data": {
      "text/plain": [
       "54321"
      ]
     },
     "execution_count": 36,
     "metadata": {},
     "output_type": "execute_result"
    }
   ],
   "source": [
    "s.reverse(12345)"
   ]
  },
  {
   "cell_type": "code",
   "execution_count": 37,
   "metadata": {},
   "outputs": [
    {
     "data": {
      "text/plain": [
       "-98765"
      ]
     },
     "execution_count": 37,
     "metadata": {},
     "output_type": "execute_result"
    }
   ],
   "source": [
    "s.reverse(-56789)"
   ]
  },
  {
   "cell_type": "code",
   "execution_count": 38,
   "metadata": {},
   "outputs": [
    {
     "data": {
      "text/plain": [
       "543"
      ]
     },
     "execution_count": 38,
     "metadata": {},
     "output_type": "execute_result"
    }
   ],
   "source": [
    "s.reverse(3450)"
   ]
  },
  {
   "cell_type": "code",
   "execution_count": 39,
   "metadata": {},
   "outputs": [
    {
     "data": {
      "text/plain": [
       "0"
      ]
     },
     "execution_count": 39,
     "metadata": {},
     "output_type": "execute_result"
    }
   ],
   "source": [
    "s.reverse(2147483645)"
   ]
  },
  {
   "cell_type": "code",
   "execution_count": 1,
   "metadata": {},
   "outputs": [],
   "source": [
    "class Solution(object):\n",
    "    \"\"\"\n",
    "    判断一个整数是否为回文数\n",
    "    \n",
    "    \"\"\"\n",
    "    def reverseInteger(self, num):\n",
    "        \"\"\"\n",
    "        把一个整数反向，但不使用上面的先把整数转化为字符串的方法\n",
    "        \"\"\"\n",
    "        res = 0\n",
    "        ### while循环继续的条件是num不为0\n",
    "        while num:\n",
    "            ### 让carry等于num的最后一位数字：\n",
    "            carry = num % 10\n",
    "            res = res * 10 + carry\n",
    "            num = num // 10\n",
    "\n",
    "        return res\n",
    "\n",
    "    def isPalindrome(self, x):\n",
    "        \"\"\"\n",
    "        输入为x\n",
    "        :type x: int\n",
    "        :rtype: bool\n",
    "        \"\"\"\n",
    "        ### 首先判断输入的是否为负数，如果是负数，肯定不是回文数：\n",
    "        if str(x)[0] == \"-\":\n",
    "            return False\n",
    "\n",
    "        ### 此处用self.的方式使用了自身类中定义的方法：\n",
    "        if x == self.reverseInteger(x):\n",
    "            return True\n",
    "        return False"
   ]
  },
  {
   "cell_type": "code",
   "execution_count": 2,
   "metadata": {},
   "outputs": [
    {
     "data": {
      "text/plain": [
       "False"
      ]
     },
     "execution_count": 2,
     "metadata": {},
     "output_type": "execute_result"
    }
   ],
   "source": [
    "s = Solution()\n",
    "s.isPalindrome(-141)"
   ]
  },
  {
   "cell_type": "code",
   "execution_count": 3,
   "metadata": {},
   "outputs": [
    {
     "data": {
      "text/plain": [
       "False"
      ]
     },
     "execution_count": 3,
     "metadata": {},
     "output_type": "execute_result"
    }
   ],
   "source": [
    "s.isPalindrome(12345)"
   ]
  },
  {
   "cell_type": "code",
   "execution_count": 4,
   "metadata": {},
   "outputs": [
    {
     "data": {
      "text/plain": [
       "True"
      ]
     },
     "execution_count": 4,
     "metadata": {},
     "output_type": "execute_result"
    }
   ],
   "source": [
    "s.isPalindrome(1234321)"
   ]
  },
  {
   "cell_type": "code",
   "execution_count": 6,
   "metadata": {},
   "outputs": [],
   "source": [
    "class Solution:\n",
    "    def longestCommonPrefix(self, strs):\n",
    "        \"\"\"\n",
    "        返回几个字符串间最长的公共前缀，例如：\n",
    "        输入: [\"flower\",\"flow\",\"flight\"]\n",
    "　　　　　输出: \"fl\"\n",
    "        :type strs: List[str]\n",
    "        :rtype: str\n",
    "        \"\"\"\n",
    "        ### 如果输入的是空字符串，结束进程\n",
    "        if not strs:\n",
    "            return \"\"\n",
    "\n",
    "        index = 1\n",
    "        ### 在这里，输入的strs中的每个字符串的长度len()组成了一个列表，这个列表的最小值赋给了min_len\n",
    "        min_len = min([len(ele) for ele in strs])  \n",
    "\n",
    "        while index <= min_len:  ###公共前缀的长度一定小于最小的那个字符串的长度\n",
    "            ### 这里使用了基本的python方法set，即集合；\n",
    "            ### 如果以下这个集合的长度为1，则说明strs中的字符串都有一样的公共元素ele[:index]\n",
    "            if len(set([ele[:index] for ele in strs])) == 1:\n",
    "                index += 1\n",
    "            else:\n",
    "                break\n",
    "\n",
    "        return strs[0][:index - 1]"
   ]
  },
  {
   "cell_type": "code",
   "execution_count": 7,
   "metadata": {},
   "outputs": [],
   "source": [
    "s = Solution()"
   ]
  },
  {
   "cell_type": "code",
   "execution_count": 8,
   "metadata": {},
   "outputs": [],
   "source": [
    "strs_input = [\"flow\",\"fly\",\"fly me to the moon\",\"flag\"]"
   ]
  },
  {
   "cell_type": "code",
   "execution_count": 9,
   "metadata": {},
   "outputs": [
    {
     "data": {
      "text/plain": [
       "'fl'"
      ]
     },
     "execution_count": 9,
     "metadata": {},
     "output_type": "execute_result"
    }
   ],
   "source": [
    "s.longestCommonPrefix(strs_input)"
   ]
  },
  {
   "cell_type": "markdown",
   "metadata": {},
   "source": [
    "给定一个只包括 '('，')'，'{'，'}'，'['，']' 的字符串，判断字符串是否有效。\n",
    "\n",
    "有效字符串需满足：\n",
    "\n",
    "* 左括号必须用相同类型的右括号闭合。\n",
    "* 左括号必须以正确的顺序闭合。\n",
    "* 注意空字符串可被认为是有效字符串。\n",
    "\n",
    "示例 1:\n",
    "```bash\n",
    "输入: \"()\"\n",
    "输出: true\n",
    "```\n",
    "\n",
    "示例 2:\n",
    "```bash\n",
    "输入: \"()[]{}\"\n",
    "输出: true\n",
    "```\n",
    "\n",
    "示例 3:\n",
    "```bash\n",
    "输入: \"(]\"\n",
    "输出: false\n",
    "```\n",
    "\n",
    "示例 4:\n",
    "```bash\n",
    "输入: \"([)]\"\n",
    "输出: false\n",
    "```\n",
    "\n",
    "示例 5:\n",
    "```bash\n",
    "输入: \"{[]}\"\n",
    "输出: true\n",
    "```"
   ]
  },
  {
   "cell_type": "code",
   "execution_count": 6,
   "metadata": {},
   "outputs": [],
   "source": [
    "class Solution:\n",
    "    def isValid(self, s):\n",
    "        \"\"\"\n",
    "        判断括号是否有效\n",
    "        :type s: str\n",
    "        :rtype: bool\n",
    "        \"\"\"\n",
    "        ### 因为规定输入只包括括号，所以可以用一个字典储存所有待评价信息\n",
    "        ### 即使用字典为括号们配对，“]”需要找“[”来配对\n",
    "        d = {\"]\": \"[\", \"}\": \"{\", \")\": \"(\"}\n",
    "        ### 然后借用堆栈的思想，把所有的左半边括号存入stack列表，\n",
    "        ### 如果能找到符合要求的右半边括号，那么把这个左半边括号从堆栈中pop出\n",
    "        ### 如果最后堆栈空了，说明所有的左半边括号都找到了合适的右半边括号，则返回True\n",
    "        stack = []\n",
    "\n",
    "        for char in s:   ### 遍历输入\n",
    "            if stack and (char in d) and (stack[-1] == d[char]):\n",
    "                ### 如果stack不是空的（即char已经不是第一个字符），且char是字典d的键（即char是一个右半边括号），\n",
    "                ### 且stack中的上一个值恰好是char配对的左半边括号，那么将这个值从stack中pop出：\n",
    "                stack.pop()\n",
    "            else:\n",
    "                stack.append(char)\n",
    "        return not stack  "
   ]
  },
  {
   "cell_type": "code",
   "execution_count": 7,
   "metadata": {},
   "outputs": [],
   "source": [
    "s = Solution()"
   ]
  },
  {
   "cell_type": "code",
   "execution_count": 8,
   "metadata": {},
   "outputs": [
    {
     "data": {
      "text/plain": [
       "True"
      ]
     },
     "execution_count": 8,
     "metadata": {},
     "output_type": "execute_result"
    }
   ],
   "source": [
    "s.isValid(\"()[]{}[]\")"
   ]
  },
  {
   "cell_type": "code",
   "execution_count": 9,
   "metadata": {},
   "outputs": [
    {
     "data": {
      "text/plain": [
       "False"
      ]
     },
     "execution_count": 9,
     "metadata": {},
     "output_type": "execute_result"
    }
   ],
   "source": [
    "s.isValid(\"()[]({][]\")"
   ]
  },
  {
   "cell_type": "code",
   "execution_count": 10,
   "metadata": {},
   "outputs": [
    {
     "data": {
      "text/plain": [
       "True"
      ]
     },
     "execution_count": 10,
     "metadata": {},
     "output_type": "execute_result"
    }
   ],
   "source": [
    "s.isValid(\"\")"
   ]
  },
  {
   "cell_type": "markdown",
   "metadata": {},
   "source": [
    "给定一个排序数组，你需要在**原地**删除重复出现的元素，使得每个元素只出现一次，返回移除后数组的新长度。\n",
    "\n",
    "不要使用额外的数组空间，你必须在**原地**修改输入数组 并在使用 O(1) 额外空间的条件下完成。\n",
    "\n",
    " \n",
    "\n",
    "示例 1:\n",
    "```bash\n",
    "给定数组 nums = [1,1,2], \n",
    "\n",
    "函数应该返回新的长度 2, 并且原数组 nums 的前两个元素被修改为 1, 2。 \n",
    "\n",
    "你不需要考虑数组中超出新长度后面的元素。\n",
    "```\n",
    "\n",
    "示例 2:\n",
    "```bash\n",
    "给定 nums = [0,0,1,1,1,2,2,3,3,4],\n",
    "\n",
    "函数应该返回新的长度 5, 并且原数组 nums 的前五个元素被修改为 0, 1, 2, 3, 4。\n",
    "\n",
    "你不需要考虑数组中超出新长度后面的元素。\n",
    "```\n"
   ]
  },
  {
   "cell_type": "code",
   "execution_count": 11,
   "metadata": {},
   "outputs": [],
   "source": [
    "class Solution:\n",
    "    def removeDuplicates(self, nums):\n",
    "        \"\"\"\n",
    "        去掉数组中重复的元素，其中输入的nums是一个整数列表：\n",
    "        :type nums: List[int]\n",
    "        :rtype: int\n",
    "        \"\"\"\n",
    "        ### 去除边界条件：如果输入的是个空集，直接返回0\n",
    "        if len(nums) == 0:\n",
    "            return 0\n",
    "        \n",
    "        ### 从第一个元素开始：\n",
    "        i = 0\n",
    "        ### 遍历第二个元素到最后一个元素：\n",
    "        for j in range(1, len(nums)):\n",
    "            if nums[j] != nums[i]:\n",
    "                ### 如果第j个元素跟第i个元素不相等，\n",
    "                ### 则把i前进一位，\n",
    "                i += 1\n",
    "                ### 且把前进后的nums[i]的值改为第j个元素的值nums[j]\n",
    "                ### 这里体现了列表是可以直接通过索引序号改变元素的值的：\n",
    "                nums[i] = nums[j]\n",
    "        ### 这里体现了python中的序号从0开始，所以“个数”=“最后一个序号”+1\n",
    "        return i + 1"
   ]
  },
  {
   "cell_type": "code",
   "execution_count": 12,
   "metadata": {},
   "outputs": [],
   "source": [
    "s = Solution()"
   ]
  },
  {
   "cell_type": "code",
   "execution_count": 13,
   "metadata": {},
   "outputs": [
    {
     "data": {
      "text/plain": [
       "5"
      ]
     },
     "execution_count": 13,
     "metadata": {},
     "output_type": "execute_result"
    }
   ],
   "source": [
    "s.removeDuplicates([0,0,1,1,1,2,2,3,3,4])"
   ]
  },
  {
   "cell_type": "code",
   "execution_count": 14,
   "metadata": {},
   "outputs": [
    {
     "data": {
      "text/plain": [
       "0"
      ]
     },
     "execution_count": 14,
     "metadata": {},
     "output_type": "execute_result"
    }
   ],
   "source": [
    "s.removeDuplicates([])"
   ]
  },
  {
   "cell_type": "markdown",
   "metadata": {},
   "source": [
    "给你一个数组 nums 和一个值 val，你需要**原地**移除所有数值等于 val 的元素，并返回移除后数组的新长度。\n",
    "\n",
    "不要使用额外的数组空间，你必须仅使用 O(1) 额外空间并**原地**修改输入数组。\n",
    "\n",
    "元素的顺序可以改变。你不需要考虑数组中超出新长度后面的元素。\n",
    "\n",
    " \n",
    "\n",
    "示例 1:\n",
    "```bash\n",
    "给定 nums = [3,2,2,3], val = 3,\n",
    "\n",
    "函数应该返回新的长度 2, 并且 nums 中的前两个元素均为 2。\n",
    "\n",
    "你不需要考虑数组中超出新长度后面的元素。\n",
    "```\n",
    "\n",
    "示例 2:\n",
    "```bash\n",
    "给定 nums = [0,1,2,2,3,0,4,2], val = 2,\n",
    "\n",
    "函数应该返回新的长度 5, 并且 nums 中的前五个元素为 0, 1, 3, 0, 4。\n",
    "\n",
    "注意这五个元素可为任意顺序。\n",
    "\n",
    "你不需要考虑数组中超出新长度后面的元素。\n",
    "```\n"
   ]
  },
  {
   "cell_type": "code",
   "execution_count": 16,
   "metadata": {},
   "outputs": [],
   "source": [
    "class Solution:\n",
    "    def removeElement(self, nums, val):\n",
    "        \"\"\"\n",
    "        去掉等于val的元素\n",
    "        :type nums: List[int]\n",
    "        :type val: int\n",
    "        :rtype: int\n",
    "        \"\"\"\n",
    "        ### 仍然采用堆栈的思想，从后往前遍历数组nums，遇到等于val的数直接pop出来\n",
    "        ### 如果使用正序遍历，那么无法像这样很便利地将等于val的数从nums中去掉，且不产生一个空位\n",
    "        ### for循环使用range：注意在这里，我们需要一个列表的倒序序号，\n",
    "        ### 那么按照range(开始id，终止id，步长)的格式（且不包括终止id），开始id是列表的最后一个id，终止是-1（这样将0包含进来），步长-1表示倒序\n",
    "        for index in range(len(nums) - 1, -1, -1):\n",
    "            if nums[index] == val:\n",
    "                nums.pop(index)"
   ]
  },
  {
   "cell_type": "code",
   "execution_count": 17,
   "metadata": {},
   "outputs": [],
   "source": [
    "s = Solution()"
   ]
  },
  {
   "cell_type": "code",
   "execution_count": 20,
   "metadata": {},
   "outputs": [
    {
     "name": "stdout",
     "output_type": "stream",
     "text": [
      "[0, 1, 3, 0, 4]\n"
     ]
    }
   ],
   "source": [
    "inputlist = [0,1,2,2,3,0,4,2]\n",
    "s.removeElement(inputlist,2)\n",
    "print(inputlist)\n",
    "\n",
    "### 在这里，很明显地，输入的数组inputlist是以引用的方式传递的，意思是removeElement函数里对inputlist所做的改动是可以在函数外体现的"
   ]
  },
  {
   "cell_type": "markdown",
   "metadata": {},
   "source": [
    "实现 strStr() 函数。\n",
    "\n",
    "给定一个 haystack 字符串和一个 needle 字符串，在 haystack 字符串中找出 needle 字符串出现的第一个位置 (从0开始)。如果不存在，则返回  -1。\n",
    "\n",
    "示例 1:\n",
    "```bash\n",
    "输入: haystack = \"hello\", needle = \"ll\"\n",
    "输出: 2\n",
    "```\n",
    "\n",
    "示例 2:\n",
    "```bash\n",
    "输入: haystack = \"aaaaa\", needle = \"bba\"\n",
    "输出: -1\n",
    "```\n"
   ]
  },
  {
   "cell_type": "code",
   "execution_count": 22,
   "metadata": {},
   "outputs": [],
   "source": [
    "class Solution(object):\n",
    "    def strStr(self, haystack, needle):\n",
    "        \"\"\"\n",
    "        返回haystack中needle字符串的索引序号\n",
    "        :type haystack: str\n",
    "        :type needle: str\n",
    "        :rtype: int\n",
    "        \"\"\"\n",
    "        k = len(needle)\n",
    "        ### for循环的序号范围从0到len(haystack) - k + 1，因为要减去needle的长度，不需要到最后一位\n",
    "        for index in range(len(haystack) - k + 1):\n",
    "            if haystack[index:index + k] == needle:\n",
    "                ### 如果haystack中有等于needle的部分，返回索引值即可\n",
    "                return index\n",
    "        return -1"
   ]
  },
  {
   "cell_type": "code",
   "execution_count": 23,
   "metadata": {},
   "outputs": [],
   "source": [
    "s = Solution()"
   ]
  },
  {
   "cell_type": "code",
   "execution_count": 24,
   "metadata": {},
   "outputs": [
    {
     "data": {
      "text/plain": [
       "2"
      ]
     },
     "execution_count": 24,
     "metadata": {},
     "output_type": "execute_result"
    }
   ],
   "source": [
    "s.strStr(\"hello\",\"ll\")"
   ]
  },
  {
   "cell_type": "code",
   "execution_count": 25,
   "metadata": {},
   "outputs": [
    {
     "data": {
      "text/plain": [
       "12"
      ]
     },
     "execution_count": 25,
     "metadata": {},
     "output_type": "execute_result"
    }
   ],
   "source": [
    "s.strStr(\"Describe the city you live in.\",\" cit\")"
   ]
  },
  {
   "cell_type": "markdown",
   "metadata": {},
   "source": [
    "给定一个排序数组和一个目标值，在数组中找到目标值，并返回其索引。如果目标值不存在于数组中，返回它将会被按顺序插入的位置。\n",
    "\n",
    "你可以假设数组中无重复元素。\n",
    "\n",
    "示例 1:\n",
    "```bash\n",
    "输入: [1,3,5,6], 5\n",
    "输出: 2\n",
    "```\n",
    "\n",
    "示例 2:\n",
    "```bash\n",
    "输入: [1,3,5,6], 2\n",
    "输出: 1\n",
    "```\n",
    "\n",
    "示例 3:\n",
    "```bash\n",
    "输入: [1,3,5,6], 7\n",
    "输出: 4\n",
    "```\n",
    "\n",
    "示例 4:\n",
    "```bash\n",
    "输入: [1,3,5,6], 0\n",
    "输出: 0\n",
    "```"
   ]
  },
  {
   "cell_type": "code",
   "execution_count": 30,
   "metadata": {},
   "outputs": [],
   "source": [
    "class Solution(object):\n",
    "    def searchInsert(self, nums, target):\n",
    "        \"\"\"\n",
    "        找到可以插入的位置的序号\n",
    "        :type nums: List[int]\n",
    "        :type target: int\n",
    "        :rtype: int\n",
    "        \"\"\"\n",
    "        ### 使用一个简单的二分法查找，即见面砍一半法：\n",
    "        ### 定义两个序号，最小和最大：即low和high\n",
    "        ### 他们的初始值分别是0和数组最后一个数的序号：\n",
    "        low = 0\n",
    "        high = len(nums) - 1\n",
    "        ### 使用while循环，直到最小和最大重合为止：\n",
    "        while low <= high:\n",
    "            ### 直接切一半，看目标数字target和这个中间数谁大谁小：\n",
    "            ### 使用//避免mid不是整数\n",
    "            mid = (low + high) // 2\n",
    "            if nums[mid] == target:\n",
    "                return mid\n",
    "            elif nums[mid] < target:\n",
    "                ### 如果中间数比target小，那么最小序号挪到中间数上来：\n",
    "                low = mid + 1\n",
    "            else:\n",
    "                ### 如果中间数比target大，那么最大序号挪到中间数来：\n",
    "                high = mid - 1\n",
    "        return low"
   ]
  },
  {
   "cell_type": "code",
   "execution_count": 31,
   "metadata": {},
   "outputs": [],
   "source": [
    "s = Solution()"
   ]
  },
  {
   "cell_type": "code",
   "execution_count": 32,
   "metadata": {},
   "outputs": [
    {
     "data": {
      "text/plain": [
       "5"
      ]
     },
     "execution_count": 32,
     "metadata": {},
     "output_type": "execute_result"
    }
   ],
   "source": [
    "s.searchInsert([1,2,3,4,7,13,15,16,20],11)"
   ]
  },
  {
   "cell_type": "markdown",
   "metadata": {},
   "source": [
    "给定一个整数数组 nums ，找到一个具有最大和的连续子数组（子数组最少包含一个元素），返回其最大和。\n",
    "\n",
    "示例:\n",
    "```bash\n",
    "输入: [-2,1,-3,4,-1,2,1,-5,4]\n",
    "输出: 6\n",
    "解释: 连续子数组 [4,-1,2,1] 的和最大，为 6。\n",
    "```"
   ]
  },
  {
   "cell_type": "code",
   "execution_count": 53,
   "metadata": {},
   "outputs": [],
   "source": [
    "class Solution(object):\n",
    "    def maxSubArray(self, nums):\n",
    "        \"\"\"\n",
    "        返回可能的最大的和\n",
    "        :type nums: List[int]\n",
    "        :rtype: int\n",
    "        \"\"\"\n",
    "        ### 设置两个变量，max_res用来储存全局最大值，max_here用来储存截止到目前的最大值\n",
    "        ### 初始化max_res为一个可能的最小的数，即负无穷：\n",
    "        max_res = float(\"-Inf\")\n",
    "        max_here = 0\n",
    "\n",
    "        for i in range(0, len(nums)):   ### 从头到尾遍历输入的数组nums\n",
    "            ### 把此循环内的数叠加入max_here:\n",
    "            max_here += nums[i]\n",
    "            \n",
    "            if max_here > max_res:\n",
    "                ### 如果此时叠加的数比max_res大，就赋值给max_res:\n",
    "                max_res = max_here\n",
    "\n",
    "            if max_here < 0:\n",
    "                ### 如果加上一个数后max_here小于0，那么重新将max_here初始化，相当于重新开始积累数列中的数：\n",
    "                max_here = 0\n",
    "\n",
    "        return max_res"
   ]
  },
  {
   "cell_type": "code",
   "execution_count": 54,
   "metadata": {},
   "outputs": [],
   "source": [
    "s = Solution()"
   ]
  },
  {
   "cell_type": "code",
   "execution_count": 55,
   "metadata": {},
   "outputs": [
    {
     "data": {
      "text/plain": [
       "6"
      ]
     },
     "execution_count": 55,
     "metadata": {},
     "output_type": "execute_result"
    }
   ],
   "source": [
    "s.maxSubArray([-2,1,-3,4,-1,2,1,-5,4])"
   ]
  },
  {
   "cell_type": "code",
   "execution_count": 57,
   "metadata": {},
   "outputs": [
    {
     "data": {
      "text/plain": [
       "-1"
      ]
     },
     "execution_count": 57,
     "metadata": {},
     "output_type": "execute_result"
    }
   ],
   "source": [
    "s.maxSubArray([-2,-1,-3,-4,-1,-2,-1,-5,-4])\n",
    "\n",
    "### 如果全是负数，显然应该返回最大的一个单个负数的值："
   ]
  },
  {
   "cell_type": "markdown",
   "metadata": {},
   "source": [
    "给定一个仅包含大小写字母和空格 ' ' 的字符串 s，返回其最后一个单词的长度。如果字符串从左向右滚动显示，那么最后一个单词就是最后出现的单词。\n",
    "\n",
    "如果不存在最后一个单词，请返回 0 。\n",
    "\n",
    "说明：一个单词是指仅由字母组成、不包含任何空格字符的 最大子字符串。\n",
    "\n",
    "\n",
    "示例:\n",
    "```bash\n",
    "输入: \"Hello World\"\n",
    "输出: 5\n",
    "```"
   ]
  },
  {
   "cell_type": "code",
   "execution_count": 61,
   "metadata": {},
   "outputs": [],
   "source": [
    "class Solution(object):\n",
    "    def lengthOfLastWord(self, s):\n",
    "        \"\"\"\n",
    "        返回一句话最后一个单词的长度\n",
    "        :type s: str\n",
    "        :rtype: int\n",
    "        \"\"\"\n",
    "        ### rstrip(' ')意思是最后如果有空格的话都要去除：\n",
    "        ### split(' ')意思是把一句话中的各个单词拆开，变成一个列表：\n",
    "        return len(s.rstrip(' ').split(' ')[-1])"
   ]
  },
  {
   "cell_type": "code",
   "execution_count": 62,
   "metadata": {},
   "outputs": [],
   "source": [
    "s = Solution()"
   ]
  },
  {
   "cell_type": "code",
   "execution_count": 63,
   "metadata": {},
   "outputs": [
    {
     "data": {
      "text/plain": [
       "2"
      ]
     },
     "execution_count": 63,
     "metadata": {},
     "output_type": "execute_result"
    }
   ],
   "source": [
    "s.lengthOfLastWord(\"Describe the city you live in   \")"
   ]
  },
  {
   "cell_type": "code",
   "execution_count": 65,
   "metadata": {},
   "outputs": [
    {
     "data": {
      "text/plain": [
       "6"
      ]
     },
     "execution_count": 65,
     "metadata": {},
     "output_type": "execute_result"
    }
   ],
   "source": [
    "s.lengthOfLastWord(\"    Lesson 11: A puma at large.\")\n",
    "\n",
    "### 注意，这里不会把最后一个标点符号.排除，所以返回的是large加一个标点符号的长度：6"
   ]
  },
  {
   "cell_type": "markdown",
   "metadata": {},
   "source": [
    "给你两个二进制字符串，返回它们的和（用二进制表示）。\n",
    "\n",
    "输入为 非空 字符串且只包含数字 1 和 0。\n",
    "\n",
    " \n",
    "\n",
    "示例 1:\n",
    "```bash\n",
    "输入: a = \"11\", b = \"1\"\n",
    "输出: \"100\"\n",
    "```\n",
    "\n",
    "示例 2:\n",
    "```bash\n",
    "输入: a = \"1010\", b = \"1011\"\n",
    "输出: \"10101\"\n",
    "```"
   ]
  },
  {
   "cell_type": "code",
   "execution_count": 73,
   "metadata": {},
   "outputs": [],
   "source": [
    "class Solution(object):\n",
    "    def addBinary(self, a, b):\n",
    "        \"\"\"\n",
    "        两个二进制数相加\n",
    "        :type a: str\n",
    "        :type b: str\n",
    "        :rtype: str\n",
    "        \"\"\"\n",
    "        ### 首先，int(a,2)表示把a从二进制数转化为一个十进制整数\n",
    "        ### bin()函数返回一个十进制数的二进制表达，返回值是一个以0b开头的字符串，所以输出的字符串以[2:]开始\n",
    "        return str(bin(int(a, 2) + int(b, 2)))[2:]"
   ]
  },
  {
   "cell_type": "code",
   "execution_count": 74,
   "metadata": {},
   "outputs": [],
   "source": [
    "s = Solution()"
   ]
  },
  {
   "cell_type": "code",
   "execution_count": 75,
   "metadata": {},
   "outputs": [
    {
     "data": {
      "text/plain": [
       "'10111'"
      ]
     },
     "execution_count": 75,
     "metadata": {},
     "output_type": "execute_result"
    }
   ],
   "source": [
    "s.addBinary(\"10010\",\"0101\")"
   ]
  },
  {
   "cell_type": "markdown",
   "metadata": {},
   "source": [
    "给定一个字符串，验证它是否是回文串，只考虑字母和数字字符，可以忽略字母的大小写。\n",
    "\n",
    "说明：本题中，我们将空字符串定义为有效的回文串。\n",
    "\n",
    "示例 1:\n",
    "```bash\n",
    "输入: \"A man, a plan, a canal: Panama\"\n",
    "输出: true\n",
    "```\n",
    "\n",
    "示例 2:\n",
    "```bash\n",
    "输入: \"race a car\"\n",
    "输出: false\n",
    "```\n",
    "\n",
    "与前文中的判断回文不同，这里需要自动过滤掉不是字母的部分，且兼容大小写"
   ]
  },
  {
   "cell_type": "code",
   "execution_count": 80,
   "metadata": {},
   "outputs": [],
   "source": [
    "class Solution(object):\n",
    "    def isPalindrome(self, s):\n",
    "        \"\"\"\n",
    "        更广谱的回文判断：\n",
    "        :type s: str\n",
    "        :rtype: bool\n",
    "        \"\"\"\n",
    "        ###　这里将for循环和if判断写在了一条语句中，这一语句的自然语言逻辑为：\n",
    "        ### 遍历s中的每个ch，如果ch是字母或者数字，那么将ch统一为小写，并把这些ch用\"\"连接起来\n",
    "        ### 函数isalnum判断是否为字母或数字；函数lower将大写字母转化为小写\n",
    "        updated_str = \"\".join(ch.lower() for ch in s if ch.isalnum())\n",
    "        ### 对比过滤转化后的updated_str和它的反向：\n",
    "        return updated_str == updated_str[::-1]"
   ]
  },
  {
   "cell_type": "code",
   "execution_count": 81,
   "metadata": {},
   "outputs": [],
   "source": [
    "s = Solution()"
   ]
  },
  {
   "cell_type": "code",
   "execution_count": 82,
   "metadata": {},
   "outputs": [
    {
     "data": {
      "text/plain": [
       "True"
      ]
     },
     "execution_count": 82,
     "metadata": {},
     "output_type": "execute_result"
    }
   ],
   "source": [
    "s.isPalindrome(\"A man, a plan, a canal: Panama\")"
   ]
  },
  {
   "cell_type": "code",
   "execution_count": 83,
   "metadata": {},
   "outputs": [
    {
     "data": {
      "text/plain": [
       "False"
      ]
     },
     "execution_count": 83,
     "metadata": {},
     "output_type": "execute_result"
    }
   ],
   "source": [
    "s.isPalindrome(\"race a car\")"
   ]
  },
  {
   "cell_type": "code",
   "execution_count": null,
   "metadata": {},
   "outputs": [],
   "source": []
  }
 ],
 "metadata": {
  "kernelspec": {
   "display_name": "Python 3.5.2 64-bit",
   "language": "python",
   "name": "python35264bitfe95a84a9df4473795e4501ce456065d"
  },
  "language_info": {
   "codemirror_mode": {
    "name": "ipython",
    "version": 3
   },
   "file_extension": ".py",
   "mimetype": "text/x-python",
   "name": "python",
   "nbconvert_exporter": "python",
   "pygments_lexer": "ipython3",
   "version": "3.5.2"
  }
 },
 "nbformat": 4,
 "nbformat_minor": 2
}

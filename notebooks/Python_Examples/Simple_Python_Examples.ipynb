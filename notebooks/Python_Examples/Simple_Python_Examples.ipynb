{
 "cells": [
  {
   "cell_type": "markdown",
   "metadata": {},
   "source": [
    "# 简单的python应用实例"
   ]
  },
  {
   "cell_type": "code",
   "execution_count": 1,
   "metadata": {},
   "outputs": [],
   "source": [
    "def OddEven(num):\n",
    "    \"\"\"判断奇偶\"\"\"\n",
    "\tif num%2 == 0:\n",
    "\t\tprint(\"Even\") ### 被2整除，是偶数\n",
    "\telse:\n",
    "\t\tprint(\"Odd\")"
   ]
  },
  {
   "cell_type": "code",
   "execution_count": 2,
   "metadata": {},
   "outputs": [
    {
     "name": "stdout",
     "output_type": "stream",
     "text": [
      "Odd\n",
      "Even\n",
      "Odd\n"
     ]
    }
   ],
   "source": [
    "OddEven(1)\n",
    "OddEven(22)\n",
    "OddEven(33)"
   ]
  },
  {
   "cell_type": "code",
   "execution_count": 4,
   "metadata": {},
   "outputs": [],
   "source": [
    "import math\n",
    "### 这里要用到math包中的函数\n",
    "\n",
    "def prime(n):\n",
    "    \"\"\"判断质数\"\"\"\n",
    "    ### 先对输入的数开根号，并向上取整，得到输入数字n的平方根val\n",
    "    val = math.ceil(math.sqrt(n))\n",
    "    for i in range(2,int(val)):\n",
    "        ### 遍历从2到n的平方根val，如果n能够被其中任意一个数整除，则该数不是质数：\n",
    "        if(n % i) == 0:\n",
    "            return(\"Not Prime\")\n",
    "        else:\n",
    "            return(\"Prime\")"
   ]
  },
  {
   "cell_type": "code",
   "execution_count": 7,
   "metadata": {},
   "outputs": [
    {
     "name": "stdout",
     "output_type": "stream",
     "text": [
      "Not Prime , Prime , Prime , Not Prime\n"
     ]
    }
   ],
   "source": [
    "print(prime(20),',',prime(179),',',prime(461),',',prime(2020))"
   ]
  },
  {
   "cell_type": "code",
   "execution_count": 18,
   "metadata": {},
   "outputs": [],
   "source": [
    "### 字符串操作：\n",
    "\n",
    "def checkPalindrome():\n",
    "    \"\"\"是否回文\"\"\"\n",
    "    string = input(\"Enter a string: \") # input函数获取用户在terminal中的输入\n",
    "    if(string == string[::-1]):   # [::-1]表示把一个字符串反向\n",
    "            return(\"是回文\")\n",
    "    else:\n",
    "            return(\"不是回文\")\n",
    "\n",
    "def readConcatenate():\n",
    "    \"\"\"合并\"\"\"\n",
    "    str1 = input(\"Enter a string: \")\n",
    "    str2 = input(\"Enter the second string: \")\n",
    "    print(str1)\n",
    "    print(str2)\n",
    "    print(str1 + str2)\n",
    "    \n",
    "def countVowCons():\n",
    "    \"\"\"计算元音字母辅音字母的个数\"\"\"\n",
    "    string = input(\"Enter a string: \")\n",
    "    # 把输入的字符串全部转化为小写，这样就不用判断AEIOU了\n",
    "    string_lower = string.lower()\n",
    "        \n",
    "    count = 0\n",
    "    for i in range(0,len(string_lower)):\n",
    "            if(string_lower[i] == 'a'):\n",
    "                    count += 1\n",
    "            if(string_lower[i] == 'e'):\n",
    "                    count += 1\n",
    "            if(string_lower[i] == 'i'):\n",
    "                    count += 1\n",
    "            if(string_lower[i] == 'o'):\n",
    "                    count += 1\n",
    "            if(string_lower[i] == 'u'):\n",
    "                    count += 1\n",
    "    print(\"元音字母的个数: \"+ str(count)) \n",
    "    print(\"辅音字母的个数: \"+ str(len(string_lower)-count))\n",
    "\n",
    "def substringInString():\n",
    "    \"\"\"判断是否包含\"\"\"\n",
    "    string = input(\"Enter a string: \")\n",
    "    sub_string = input(\"Enter a substring: \")\n",
    "    # find函数用来在字符串中查找特定元素，如果没找到，返回-1\n",
    "    var = string.find(sub_string)\n",
    "    if(var != (-1)):\n",
    "            print(\"Successful\")\n",
    "    else:\n",
    "            print(\":( Unsuccessful\")\n",
    "                \n",
    "def sumNumbersString():\n",
    "    \"\"\"求字符串中所有数字的和\"\"\"  \n",
    "    string = input(\"Enter a string: \")\n",
    "    sum = 0\n",
    "    for i in range(0,len(string)):\n",
    "        # 用isdigit判读是否是数字，如果是数字，要将字符串的元素转化为int型\n",
    "        if(string[i].isdigit() == True):\n",
    "            sum = sum + int(string[i])\n",
    "    return sum"
   ]
  },
  {
   "cell_type": "code",
   "execution_count": 11,
   "metadata": {},
   "outputs": [
    {
     "name": "stdout",
     "output_type": "stream",
     "text": [
      "Enter a string: abcdedbca\n"
     ]
    },
    {
     "data": {
      "text/plain": [
       "'不是回文'"
      ]
     },
     "execution_count": 11,
     "metadata": {},
     "output_type": "execute_result"
    }
   ],
   "source": [
    "checkPalindrome()"
   ]
  },
  {
   "cell_type": "code",
   "execution_count": 12,
   "metadata": {},
   "outputs": [
    {
     "name": "stdout",
     "output_type": "stream",
     "text": [
      "Enter a string: 123abba321\n"
     ]
    },
    {
     "data": {
      "text/plain": [
       "'是回文'"
      ]
     },
     "execution_count": 12,
     "metadata": {},
     "output_type": "execute_result"
    }
   ],
   "source": [
    "checkPalindrome()"
   ]
  },
  {
   "cell_type": "code",
   "execution_count": 13,
   "metadata": {},
   "outputs": [
    {
     "name": "stdout",
     "output_type": "stream",
     "text": [
      "Enter a string: aaabbbccc\n",
      "Enter the second string: dddeeefff\n",
      "aaabbbccc\n",
      "dddeeefff\n",
      "aaabbbcccdddeeefff\n"
     ]
    }
   ],
   "source": [
    "readConcatenate()"
   ]
  },
  {
   "cell_type": "code",
   "execution_count": 14,
   "metadata": {},
   "outputs": [
    {
     "name": "stdout",
     "output_type": "stream",
     "text": [
      "Enter a string: jaoiwnv;aiwjsvoiuzkbglmnwel;awoci;j:AN\n",
      "元音字母的个数: 13\n",
      "辅音字母的个数: 25\n"
     ]
    }
   ],
   "source": [
    "countVowCons()"
   ]
  },
  {
   "cell_type": "code",
   "execution_count": 15,
   "metadata": {},
   "outputs": [
    {
     "name": "stdout",
     "output_type": "stream",
     "text": [
      "Enter a string: Afjdlchangshu\n",
      "Enter a substring: eeccb\n",
      ":( Unsuccessful\n"
     ]
    }
   ],
   "source": [
    "substringInString()"
   ]
  },
  {
   "cell_type": "code",
   "execution_count": 16,
   "metadata": {},
   "outputs": [
    {
     "name": "stdout",
     "output_type": "stream",
     "text": [
      "Enter a string: Afjdlchangshu\n",
      "Enter a substring: dlch\n",
      "Successful\n"
     ]
    }
   ],
   "source": [
    "substringInString()"
   ]
  },
  {
   "cell_type": "code",
   "execution_count": 19,
   "metadata": {},
   "outputs": [
    {
     "name": "stdout",
     "output_type": "stream",
     "text": [
      "Enter a string: joi248aovnogu82alw4nva;gjaw0ahg8\n",
      "36\n"
     ]
    }
   ],
   "source": [
    "print(sumNumbersString())"
   ]
  },
  {
   "cell_type": "code",
   "execution_count": 24,
   "metadata": {},
   "outputs": [],
   "source": [
    "class Solution(object):\n",
    "    def twoSum(self, nums, target):\n",
    "        \"\"\"\n",
    "        找到nums中两个相加等于target的数，返回两个数的序号\n",
    "        :type nums: List[int]\n",
    "        :type target: int\n",
    "        :rtype: List[int]\n",
    "        \"\"\"\n",
    "        ### 声明一个空字典：\n",
    "        d = {}\n",
    "        ### 枚举函数enumerate返回nums列表的每个元素的序号和值：\n",
    "        for index, value in enumerate(nums):\n",
    "            ### 用target减去nums中的每一个数，差再和后一个数比较，\n",
    "            ### 如果和后一个数相等，返回结果，如果不相等，把这个数连同序号存入字典d\n",
    "            if value in d:\n",
    "                return [d[value], index]\n",
    "            else:\n",
    "                d[target - value] = index"
   ]
  },
  {
   "cell_type": "code",
   "execution_count": 25,
   "metadata": {},
   "outputs": [],
   "source": [
    "nums = [5, 66, 2, 7, 11, 15]\n",
    "target = 13"
   ]
  },
  {
   "cell_type": "code",
   "execution_count": 26,
   "metadata": {},
   "outputs": [],
   "source": [
    "s=Solution()"
   ]
  },
  {
   "cell_type": "code",
   "execution_count": 27,
   "metadata": {},
   "outputs": [
    {
     "data": {
      "text/plain": [
       "[2, 4]"
      ]
     },
     "execution_count": 27,
     "metadata": {},
     "output_type": "execute_result"
    }
   ],
   "source": [
    "s.twoSum(nums,target)"
   ]
  },
  {
   "cell_type": "code",
   "execution_count": 34,
   "metadata": {},
   "outputs": [],
   "source": [
    "class Solution(object):\n",
    "    def reverse(self, x):\n",
    "        \"\"\"\n",
    "        将一个数字反向。数字范围限制在32位的int以内，即超过2的31次方返回0即可。\n",
    "        :type x: int\n",
    "        :rtype: int\n",
    "        \"\"\"\n",
    "        ### 将输入的整数转化为字符串，方便按位置进行操作\n",
    "        arr_input = str(x)\n",
    "\n",
    "        ### 如果是负数：\n",
    "        if arr_input[0] == \"-\":\n",
    "            result = (int(\"-\" + arr_input[:0:-1]))\n",
    "\n",
    "        ### 如果是正数：\n",
    "        else:\n",
    "            result = (int(arr_input[::-1]))\n",
    "\n",
    "        ### 如果反转的结果超过了2的31次方：\n",
    "        if abs(result) > 2 ** 31:\n",
    "            return (0)\n",
    "        else:\n",
    "            return (result)"
   ]
  },
  {
   "cell_type": "code",
   "execution_count": 35,
   "metadata": {},
   "outputs": [],
   "source": [
    "s = Solution()"
   ]
  },
  {
   "cell_type": "code",
   "execution_count": 36,
   "metadata": {},
   "outputs": [
    {
     "data": {
      "text/plain": [
       "54321"
      ]
     },
     "execution_count": 36,
     "metadata": {},
     "output_type": "execute_result"
    }
   ],
   "source": [
    "s.reverse(12345)"
   ]
  },
  {
   "cell_type": "code",
   "execution_count": 37,
   "metadata": {},
   "outputs": [
    {
     "data": {
      "text/plain": [
       "-98765"
      ]
     },
     "execution_count": 37,
     "metadata": {},
     "output_type": "execute_result"
    }
   ],
   "source": [
    "s.reverse(-56789)"
   ]
  },
  {
   "cell_type": "code",
   "execution_count": 38,
   "metadata": {},
   "outputs": [
    {
     "data": {
      "text/plain": [
       "543"
      ]
     },
     "execution_count": 38,
     "metadata": {},
     "output_type": "execute_result"
    }
   ],
   "source": [
    "s.reverse(3450)"
   ]
  },
  {
   "cell_type": "code",
   "execution_count": 39,
   "metadata": {},
   "outputs": [
    {
     "data": {
      "text/plain": [
       "0"
      ]
     },
     "execution_count": 39,
     "metadata": {},
     "output_type": "execute_result"
    }
   ],
   "source": [
    "s.reverse(2147483645)"
   ]
  },
  {
   "cell_type": "code",
   "execution_count": 1,
   "metadata": {},
   "outputs": [],
   "source": [
    "class Solution(object):\n",
    "    \"\"\"\n",
    "    判断一个整数是否为回文数\n",
    "    \n",
    "    \"\"\"\n",
    "    def reverseInteger(self, num):\n",
    "        \"\"\"\n",
    "        把一个整数反向，但不使用上面的先把整数转化为字符串的方法\n",
    "        \"\"\"\n",
    "        res = 0\n",
    "        ### while循环继续的条件是num不为0\n",
    "        while num:\n",
    "            ### 让carry等于num的最后一位数字：\n",
    "            carry = num % 10\n",
    "            res = res * 10 + carry\n",
    "            num = num // 10\n",
    "\n",
    "        return res\n",
    "\n",
    "    def isPalindrome(self, x):\n",
    "        \"\"\"\n",
    "        输入为x\n",
    "        :type x: int\n",
    "        :rtype: bool\n",
    "        \"\"\"\n",
    "        ### 首先判断输入的是否为负数，如果是负数，肯定不是回文数：\n",
    "        if str(x)[0] == \"-\":\n",
    "            return False\n",
    "\n",
    "        ### 此处用self.的方式使用了自身类中定义的方法：\n",
    "        if x == self.reverseInteger(x):\n",
    "            return True\n",
    "        return False"
   ]
  },
  {
   "cell_type": "code",
   "execution_count": 2,
   "metadata": {},
   "outputs": [
    {
     "data": {
      "text/plain": [
       "False"
      ]
     },
     "execution_count": 2,
     "metadata": {},
     "output_type": "execute_result"
    }
   ],
   "source": [
    "s = Solution()\n",
    "s.isPalindrome(-141)"
   ]
  },
  {
   "cell_type": "code",
   "execution_count": 3,
   "metadata": {},
   "outputs": [
    {
     "data": {
      "text/plain": [
       "False"
      ]
     },
     "execution_count": 3,
     "metadata": {},
     "output_type": "execute_result"
    }
   ],
   "source": [
    "s.isPalindrome(12345)"
   ]
  },
  {
   "cell_type": "code",
   "execution_count": 4,
   "metadata": {},
   "outputs": [
    {
     "data": {
      "text/plain": [
       "True"
      ]
     },
     "execution_count": 4,
     "metadata": {},
     "output_type": "execute_result"
    }
   ],
   "source": [
    "s.isPalindrome(1234321)"
   ]
  },
  {
   "cell_type": "code",
   "execution_count": 6,
   "metadata": {},
   "outputs": [],
   "source": [
    "class Solution:\n",
    "    def longestCommonPrefix(self, strs):\n",
    "        \"\"\"\n",
    "        返回几个字符串间最长的公共前缀，例如：\n",
    "        输入: [\"flower\",\"flow\",\"flight\"]\n",
    "　　　　　输出: \"fl\"\n",
    "        :type strs: List[str]\n",
    "        :rtype: str\n",
    "        \"\"\"\n",
    "        ### 如果输入的是空字符串，结束进程\n",
    "        if not strs:\n",
    "            return \"\"\n",
    "\n",
    "        index = 1\n",
    "        ### 在这里，输入的strs中的每个字符串的长度len()组成了一个列表，这个列表的最小值赋给了min_len\n",
    "        min_len = min([len(ele) for ele in strs])  \n",
    "\n",
    "        while index <= min_len:  ###公共前缀的长度一定小于最小的那个字符串的长度\n",
    "            ### 这里使用了基本的python方法set，即集合；\n",
    "            ### 如果以下这个集合的长度为1，则说明strs中的字符串都有一样的公共元素ele[:index]\n",
    "            if len(set([ele[:index] for ele in strs])) == 1:\n",
    "                index += 1\n",
    "            else:\n",
    "                break\n",
    "\n",
    "        return strs[0][:index - 1]"
   ]
  },
  {
   "cell_type": "code",
   "execution_count": 7,
   "metadata": {},
   "outputs": [],
   "source": [
    "s = Solution()"
   ]
  },
  {
   "cell_type": "code",
   "execution_count": 8,
   "metadata": {},
   "outputs": [],
   "source": [
    "strs_input = [\"flow\",\"fly\",\"fly me to the moon\",\"flag\"]"
   ]
  },
  {
   "cell_type": "code",
   "execution_count": 9,
   "metadata": {},
   "outputs": [
    {
     "data": {
      "text/plain": [
       "'fl'"
      ]
     },
     "execution_count": 9,
     "metadata": {},
     "output_type": "execute_result"
    }
   ],
   "source": [
    "s.longestCommonPrefix(strs_input)"
   ]
  },
  {
   "cell_type": "code",
   "execution_count": null,
   "metadata": {},
   "outputs": [],
   "source": []
  }
 ],
 "metadata": {
  "kernelspec": {
   "display_name": "Python 3.5.2 64-bit",
   "language": "python",
   "name": "python35264bitfe95a84a9df4473795e4501ce456065d"
  },
  "language_info": {
   "codemirror_mode": {
    "name": "ipython",
    "version": 3
   },
   "file_extension": ".py",
   "mimetype": "text/x-python",
   "name": "python",
   "nbconvert_exporter": "python",
   "pygments_lexer": "ipython3",
   "version": "3.5.2"
  }
 },
 "nbformat": 4,
 "nbformat_minor": 2
}

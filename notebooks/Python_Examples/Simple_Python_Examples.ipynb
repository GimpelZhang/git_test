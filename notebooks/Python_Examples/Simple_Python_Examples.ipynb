{
 "cells": [
  {
   "cell_type": "markdown",
   "metadata": {},
   "source": [
    "# 简单的python应用实例"
   ]
  },
  {
   "cell_type": "code",
   "execution_count": 1,
   "metadata": {},
   "outputs": [],
   "source": [
    "def OddEven(num):\n",
    "    \"\"\"判断奇偶\"\"\"\n",
    "\tif num%2 == 0:\n",
    "\t\tprint(\"Even\") ### 被2整除，是偶数\n",
    "\telse:\n",
    "\t\tprint(\"Odd\")"
   ]
  },
  {
   "cell_type": "code",
   "execution_count": 2,
   "metadata": {},
   "outputs": [
    {
     "name": "stdout",
     "output_type": "stream",
     "text": [
      "Odd\n",
      "Even\n",
      "Odd\n"
     ]
    }
   ],
   "source": [
    "OddEven(1)\n",
    "OddEven(22)\n",
    "OddEven(33)"
   ]
  },
  {
   "cell_type": "code",
   "execution_count": 4,
   "metadata": {},
   "outputs": [],
   "source": [
    "import math\n",
    "### 这里要用到math包中的函数\n",
    "\n",
    "def prime(n):\n",
    "    \"\"\"判断质数\"\"\"\n",
    "    ### 先对输入的数开根号，并向上取整，得到输入数字n的平方根val\n",
    "    val = math.ceil(math.sqrt(n))\n",
    "    for i in range(2,int(val)):\n",
    "        ### 遍历从2到n的平方根val，如果n能够被其中任意一个数整除，则该数不是质数：\n",
    "        if(n % i) == 0:\n",
    "            return(\"Not Prime\")\n",
    "        else:\n",
    "            return(\"Prime\")"
   ]
  },
  {
   "cell_type": "code",
   "execution_count": 7,
   "metadata": {},
   "outputs": [
    {
     "name": "stdout",
     "output_type": "stream",
     "text": [
      "Not Prime , Prime , Prime , Not Prime\n"
     ]
    }
   ],
   "source": [
    "print(prime(20),',',prime(179),',',prime(461),',',prime(2020))"
   ]
  },
  {
   "cell_type": "code",
   "execution_count": 18,
   "metadata": {},
   "outputs": [],
   "source": [
    "### 字符串操作：\n",
    "\n",
    "def checkPalindrome():\n",
    "    \"\"\"是否回文\"\"\"\n",
    "    string = input(\"Enter a string: \") # input函数获取用户在terminal中的输入\n",
    "    if(string == string[::-1]):   # [::-1]表示把一个字符串反向\n",
    "            return(\"是回文\")\n",
    "    else:\n",
    "            return(\"不是回文\")\n",
    "\n",
    "def readConcatenate():\n",
    "    \"\"\"合并\"\"\"\n",
    "    str1 = input(\"Enter a string: \")\n",
    "    str2 = input(\"Enter the second string: \")\n",
    "    print(str1)\n",
    "    print(str2)\n",
    "    print(str1 + str2)\n",
    "    \n",
    "def countVowCons():\n",
    "    \"\"\"计算元音字母辅音字母的个数\"\"\"\n",
    "    string = input(\"Enter a string: \")\n",
    "    # 把输入的字符串全部转化为小写，这样就不用判断AEIOU了\n",
    "    string_lower = string.lower()\n",
    "        \n",
    "    count = 0\n",
    "    for i in range(0,len(string_lower)):\n",
    "            if(string_lower[i] == 'a'):\n",
    "                    count += 1\n",
    "            if(string_lower[i] == 'e'):\n",
    "                    count += 1\n",
    "            if(string_lower[i] == 'i'):\n",
    "                    count += 1\n",
    "            if(string_lower[i] == 'o'):\n",
    "                    count += 1\n",
    "            if(string_lower[i] == 'u'):\n",
    "                    count += 1\n",
    "    print(\"元音字母的个数: \"+ str(count)) \n",
    "    print(\"辅音字母的个数: \"+ str(len(string_lower)-count))\n",
    "\n",
    "def substringInString():\n",
    "    \"\"\"判断是否包含\"\"\"\n",
    "    string = input(\"Enter a string: \")\n",
    "    sub_string = input(\"Enter a substring: \")\n",
    "    # find函数用来在字符串中查找特定元素，如果没找到，返回-1\n",
    "    var = string.find(sub_string)\n",
    "    if(var != (-1)):\n",
    "            print(\"Successful\")\n",
    "    else:\n",
    "            print(\":( Unsuccessful\")\n",
    "                \n",
    "def sumNumbersString():\n",
    "    \"\"\"求字符串中所有数字的和\"\"\"  \n",
    "    string = input(\"Enter a string: \")\n",
    "    sum = 0\n",
    "    for i in range(0,len(string)):\n",
    "        # 用isdigit判读是否是数字，如果是数字，要将字符串的元素转化为int型\n",
    "        if(string[i].isdigit() == True):\n",
    "            sum = sum + int(string[i])\n",
    "    return sum"
   ]
  },
  {
   "cell_type": "code",
   "execution_count": 11,
   "metadata": {},
   "outputs": [
    {
     "name": "stdout",
     "output_type": "stream",
     "text": [
      "Enter a string: abcdedbca\n"
     ]
    },
    {
     "data": {
      "text/plain": [
       "'不是回文'"
      ]
     },
     "execution_count": 11,
     "metadata": {},
     "output_type": "execute_result"
    }
   ],
   "source": [
    "checkPalindrome()"
   ]
  },
  {
   "cell_type": "code",
   "execution_count": 12,
   "metadata": {},
   "outputs": [
    {
     "name": "stdout",
     "output_type": "stream",
     "text": [
      "Enter a string: 123abba321\n"
     ]
    },
    {
     "data": {
      "text/plain": [
       "'是回文'"
      ]
     },
     "execution_count": 12,
     "metadata": {},
     "output_type": "execute_result"
    }
   ],
   "source": [
    "checkPalindrome()"
   ]
  },
  {
   "cell_type": "code",
   "execution_count": 13,
   "metadata": {},
   "outputs": [
    {
     "name": "stdout",
     "output_type": "stream",
     "text": [
      "Enter a string: aaabbbccc\n",
      "Enter the second string: dddeeefff\n",
      "aaabbbccc\n",
      "dddeeefff\n",
      "aaabbbcccdddeeefff\n"
     ]
    }
   ],
   "source": [
    "readConcatenate()"
   ]
  },
  {
   "cell_type": "code",
   "execution_count": 14,
   "metadata": {},
   "outputs": [
    {
     "name": "stdout",
     "output_type": "stream",
     "text": [
      "Enter a string: jaoiwnv;aiwjsvoiuzkbglmnwel;awoci;j:AN\n",
      "元音字母的个数: 13\n",
      "辅音字母的个数: 25\n"
     ]
    }
   ],
   "source": [
    "countVowCons()"
   ]
  },
  {
   "cell_type": "code",
   "execution_count": 15,
   "metadata": {},
   "outputs": [
    {
     "name": "stdout",
     "output_type": "stream",
     "text": [
      "Enter a string: Afjdlchangshu\n",
      "Enter a substring: eeccb\n",
      ":( Unsuccessful\n"
     ]
    }
   ],
   "source": [
    "substringInString()"
   ]
  },
  {
   "cell_type": "code",
   "execution_count": 16,
   "metadata": {},
   "outputs": [
    {
     "name": "stdout",
     "output_type": "stream",
     "text": [
      "Enter a string: Afjdlchangshu\n",
      "Enter a substring: dlch\n",
      "Successful\n"
     ]
    }
   ],
   "source": [
    "substringInString()"
   ]
  },
  {
   "cell_type": "code",
   "execution_count": 19,
   "metadata": {},
   "outputs": [
    {
     "name": "stdout",
     "output_type": "stream",
     "text": [
      "Enter a string: joi248aovnogu82alw4nva;gjaw0ahg8\n",
      "36\n"
     ]
    }
   ],
   "source": [
    "print(sumNumbersString())"
   ]
  },
  {
   "cell_type": "code",
   "execution_count": null,
   "metadata": {},
   "outputs": [],
   "source": []
  }
 ],
 "metadata": {
  "kernelspec": {
   "display_name": "Python 3.5.2 64-bit",
   "language": "python",
   "name": "python35264bitfe95a84a9df4473795e4501ce456065d"
  },
  "language_info": {
   "codemirror_mode": {
    "name": "ipython",
    "version": 3
   },
   "file_extension": ".py",
   "mimetype": "text/x-python",
   "name": "python",
   "nbconvert_exporter": "python",
   "pygments_lexer": "ipython3",
   "version": "3.5.2"
  }
 },
 "nbformat": 4,
 "nbformat_minor": 2
}

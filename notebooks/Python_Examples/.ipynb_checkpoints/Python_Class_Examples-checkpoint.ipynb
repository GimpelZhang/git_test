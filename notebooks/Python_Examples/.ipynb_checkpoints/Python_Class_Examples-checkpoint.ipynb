{
 "cells": [
  {
   "cell_type": "markdown",
   "metadata": {},
   "source": [
    "# Python Class - 几个栗子\n",
    "\n",
    "以下将通过几个实例来展示面向对象编程语言的核心概念--类.\n"
   ]
  },
  {
   "cell_type": "markdown",
   "metadata": {
    "collapsed": true
   },
   "source": [
    "## 实例1： 信用卡\n",
    "\n",
    "CreditCard:\n",
    "* 识别信息 - Customer, Bank, Account Number, Credit Limit and Current Balance"
   ]
  },
  {
   "cell_type": "code",
   "execution_count": 1,
   "metadata": {},
   "outputs": [],
   "source": [
    "class CreditCard:\n",
    "    \"\"\"一个消费信用卡类.\"\"\"\n",
    "    \n",
    "    ### init算作类的构造器，用来执行实例的初始化：\n",
    "    def __init__(self, customer, bank, acnt, limit):\n",
    "        \"\"\"使用init创建一个新实例.\n",
    "\n",
    "        初始的默认消费金额为0.\n",
    "\n",
    "        customer  持卡人姓名 (e.g., 'John Bowman')\n",
    "        bank      银行名称 (e.g., '中国人民很行')\n",
    "        acnt      账号 (e.g., '5391 0375 9387 5309')\n",
    "        limit     信用额度\n",
    "        \"\"\"\n",
    "        self._customer = customer\n",
    "        self._bank = bank\n",
    "        self._account = acnt\n",
    "        self._limit = limit\n",
    "        self._balance = 0  ###在这里给初始消费金额默认设为0\n",
    "\n",
    "    def get_customer(self):\n",
    "        \"\"\"返回持卡人姓名.\"\"\"\n",
    "        ### 这是信用卡类的一个方法\n",
    "        return self._customer\n",
    "    \n",
    "    def get_bank(self):\n",
    "        \"\"\"返回银行名称.\"\"\"\n",
    "        return self._bank\n",
    "\n",
    "    def get_account(self):\n",
    "        \"\"\"返回账号.\"\"\"\n",
    "        return self._account\n",
    "\n",
    "    def get_limit(self):\n",
    "        \"\"\"返回信用卡限额.\"\"\"\n",
    "        return self._limit\n",
    "\n",
    "    def get_balance(self):\n",
    "        \"\"\"返回消费金额.\"\"\"\n",
    "        return self._balance\n",
    "\n",
    "    def charge(self, price):\n",
    "        \"\"\"信用卡扣款，用信用卡消费的钱数是price，且需要在信用卡的限额以内.\n",
    "\n",
    "        如果没有超限额，返回True代表扣款成功，如果超限额返回False代表扣款失败.\n",
    "        \"\"\"\n",
    "        if price + self._balance > self._limit:  # 如果新扣的钱加上已有的消费金额已经超过了限额,\n",
    "          return False                           # 那么扣款失败\n",
    "        else:\n",
    "          self._balance += price\n",
    "          return True\n",
    "\n",
    "    def make_payment(self, amount):\n",
    "        \"\"\"信用卡还款，从消费金额中减去amount这么多的钱.\"\"\"\n",
    "        self._balance -= amount"
   ]
  },
  {
   "cell_type": "code",
   "execution_count": 5,
   "metadata": {},
   "outputs": [],
   "source": [
    "wallet = []  ### 创建一个名为wallet的空列表，表示一个空空如也的钱包；\n",
    "\n",
    "### 在以下操作中，CreditCard('XXX', 'XXX','XXX', XXX)表示创建了CreditCard这个类的一个实例，并对这个实例的几个属性进行了赋值，\n",
    "### 按照构造CreditCard类时的顺序，这几个属性分别代表持卡人姓名、银行名称、账号、信用额度\n",
    "### 注意，有的值带有引号，表示给这个属性赋值的是字符串的类型，不加引号，表示赋值的是一个数字。\n",
    "### 接下来，wallet.append()表示使用了列表的内置函数append，把生成的一个信用卡实例放入wallet列表：\n",
    "wallet.append(CreditCard('夏侯商元', '中国人民很行',\n",
    "                       '5391 0375 9387 5309', 2500) )  # 大侠夏侯商元往钱包中放入了一张中国人民很行的信用卡\n",
    "wallet.append(CreditCard('夏侯商元', '北京大兴区农业信用合作社',\n",
    "                       '3485 0399 3395 1954', 3500) )  # 大侠夏侯商元往钱包中放入了一张北京大兴区农业信用合作社的信用卡\n",
    "wallet.append(CreditCard('夏侯商元', '北京通州区万达广场大玩家',\n",
    "                       '27149', 300) )                 # 大侠夏侯商元往钱包中放入了一张北京通州区万达广场大玩家的信用卡"
   ]
  },
  {
   "cell_type": "code",
   "execution_count": 6,
   "metadata": {},
   "outputs": [],
   "source": [
    "### 由于wallet是一个列表类型，那么可以通过序号来访问列表中的元素，即：wallet[x]，wallet中每一个元素的类型都是CreditCard\n",
    "### 接着用CreditCard类中的charge方法给每个信用卡实例扣款，本质是修改各个实例中balance属性的值。\n",
    "\n",
    "for val in range(1, 17):\n",
    "    ### 进行val的值依次为1-16的16轮循环（注：python中的range默认包括起始值不包括终止值）\n",
    "    ### 在每轮循环中给三张卡扣除val、2×val、3×val的钱数：\n",
    "    wallet[0].charge(val)\n",
    "    wallet[1].charge(2*val)\n",
    "    wallet[2].charge(3*val)\n"
   ]
  },
  {
   "cell_type": "code",
   "execution_count": 7,
   "metadata": {},
   "outputs": [
    {
     "name": "stdout",
     "output_type": "stream",
     "text": [
      "Customer = 夏侯商元\n",
      "Bank = 中国人民很行\n",
      "Account = 5391 0375 9387 5309\n",
      "Limit = 2500\n",
      "Balance = 136\n",
      "New balance = 36\n",
      "\n",
      "\n",
      "Customer = 夏侯商元\n",
      "Bank = 北京大兴区农业信用合作社\n",
      "Account = 3485 0399 3395 1954\n",
      "Limit = 3500\n",
      "Balance = 272\n",
      "New balance = 172\n",
      "New balance = 72\n",
      "\n",
      "\n",
      "Customer = 夏侯商元\n",
      "Bank = 北京通州区万达广场大玩家\n",
      "Account = 27149\n",
      "Limit = 300\n",
      "Balance = 273\n",
      "New balance = 173\n",
      "New balance = 73\n",
      "\n",
      "\n"
     ]
    }
   ],
   "source": [
    "for c in range(3):\n",
    "    print('Customer =', wallet[c].get_customer())\n",
    "    print('Bank =', wallet[c].get_bank())\n",
    "    print('Account =', wallet[c].get_account())\n",
    "    print('Limit =', wallet[c].get_limit())\n",
    "    print('Balance =', wallet[c].get_balance())\n",
    "    while wallet[c].get_balance() > 100:\n",
    "      ### 如果卡内的已消费金额大于100，则进行一次100的还款：\n",
    "      wallet[c].make_payment(100)\n",
    "      print('New balance =', wallet[c].get_balance())\n",
    "    print(\"\\n\")"
   ]
  },
  {
   "cell_type": "code",
   "execution_count": 8,
   "metadata": {},
   "outputs": [],
   "source": [
    "### 下面展示类的继承的概念：\n",
    "\n",
    "class PredatoryCreditCard(CreditCard):\n",
    "    \"\"\"创建一个掠夺性信用卡的新类，继承自CreditCard的已有类，增加了interest利率 和 fees手续费.\"\"\"\n",
    "  \n",
    "    def __init__(self, customer, bank, acnt, limit, apr):\n",
    "        \"\"\"使用init创建一个新实例.\n",
    "\n",
    "        初始的默认消费金额为0.\n",
    "\n",
    "        customer  持卡人姓名 (e.g., 'John Bowman')\n",
    "        bank      银行名称 (e.g., '中国人民很行')\n",
    "        acnt      账号 (e.g., '5391 0375 9387 5309')\n",
    "        limit     信用额度\n",
    "        apr       年利率 (e.g., 0.0825 for 8.25% APR)\n",
    "        \"\"\"\n",
    "        ### 关于super的简要说明，由于父类CreditCard有__init__方法，子类PredatoryCreditCard也有__init__方法，\n",
    "        ### 如果不做特殊处理，子类的__init__就覆盖了父类的同名方法，不能继承父类__init__中的内容了，\n",
    "        ### 因此使用super()函数来表示父类，即以下先在子类的__init__中调用了父类的__init__:\n",
    "#         super().__init__(customer, bank, acnt, limit)  # 调用父类中的__init__\n",
    "        super(PredatoryCreditCard, self).__init__(customer, bank, acnt, limit)  # 也可以这样写\n",
    "        ### 再完善子类自己的__init__，增加一个新的属性年利率：\n",
    "        self._apr = apr\n",
    "\n",
    "    def charge(self, price):\n",
    "        \"\"\"信用卡扣款，用信用卡消费的钱数是price，且需要在信用卡的限额以内.\n",
    "\n",
    "        如果扣款成功返回True.\n",
    "        如果扣款不成功返回False，且要扣除5块钱的手续费.\n",
    "        \"\"\"\n",
    "        ### 与上面的__init__类似，子类要先通过super()调用父类的charge():\n",
    "#         success = super().charge(price)          # 调用父类中的方法\n",
    "        success = super(PredatoryCreditCard, self).charge(price)          # 调用父类中的方法\n",
    "        if not success:\n",
    "          self._balance += 5                     # 如果扣款没有成功，那么要扣除5块钱的手续费\n",
    "        return success                           \n",
    "\n",
    "    def process_month(self):\n",
    "        \"\"\"如果每月有没还上的扣款，那么要对没还上的部分征收利息.\"\"\"\n",
    "        if self._balance > 0:\n",
    "          # 如果有没还上的钱, 先把年利率转化为月利率：\n",
    "          monthly_factor = pow(1 + self._apr, 1/12)\n",
    "          # 再用月利率乘以扣款：\n",
    "          self._balance *= monthly_factor\n"
   ]
  },
  {
   "cell_type": "code",
   "execution_count": 20,
   "metadata": {},
   "outputs": [],
   "source": [
    "### 建立一个新的类的实例：DaWanJia就代表了这个实例\n",
    "\n",
    "DaWanJia = PredatoryCreditCard('夏侯商元','北京通州区万达广场大玩家','27149', 300, 50)\n"
   ]
  },
  {
   "cell_type": "code",
   "execution_count": 21,
   "metadata": {},
   "outputs": [
    {
     "data": {
      "text/plain": [
       "0"
      ]
     },
     "execution_count": 21,
     "metadata": {},
     "output_type": "execute_result"
    }
   ],
   "source": [
    "DaWanJia.get_balance()  ### 此方法返回消费金额"
   ]
  },
  {
   "cell_type": "code",
   "execution_count": 22,
   "metadata": {},
   "outputs": [
    {
     "data": {
      "text/plain": [
       "True"
      ]
     },
     "execution_count": 22,
     "metadata": {},
     "output_type": "execute_result"
    }
   ],
   "source": [
    "DaWanJia.charge(300)  ### 夏侯商元在万达大玩家消费了300元"
   ]
  },
  {
   "cell_type": "code",
   "execution_count": 23,
   "metadata": {},
   "outputs": [],
   "source": [
    "for month in range(0,6):\n",
    "    DaWanJia.process_month()  ### 这笔钱夏侯商元半年也没去还"
   ]
  },
  {
   "cell_type": "code",
   "execution_count": 25,
   "metadata": {},
   "outputs": [
    {
     "data": {
      "text/plain": [
       "2142.4285285628553"
      ]
     },
     "execution_count": 25,
     "metadata": {},
     "output_type": "execute_result"
    }
   ],
   "source": [
    "DaWanJia.get_balance() ### 利滚利夏侯商元现在欠大玩家这么多钱："
   ]
  },
  {
   "cell_type": "code",
   "execution_count": 27,
   "metadata": {},
   "outputs": [],
   "source": [
    "### 直到此时夏侯商元才发现，办卡的时候，大玩家信用卡的年利率竟然达到了5000%！原来大玩家是一个地下高利贷组织。\n",
    "### 大侠夏侯商元无力偿还这笔债务，只能离开通州，走清河、沙河、昌平县、南口、青龙桥……勇闯天涯去了。"
   ]
  },
  {
   "cell_type": "markdown",
   "metadata": {},
   "source": []
  },
  {
   "cell_type": "markdown",
   "metadata": {},
   "source": [
    "## 实例2：数列"
   ]
  },
  {
   "cell_type": "code",
   "execution_count": 43,
   "metadata": {},
   "outputs": [],
   "source": [
    "### 首先创建一个数列的基类Progression：\n",
    "class Progression:\n",
    "    \"\"\"\n",
    "    一个数列基类.\n",
    "\n",
    "    此基类的默认实例为从0开始的步长为1的等差数列 0, 1, 2, ...\n",
    "    \"\"\"\n",
    "\n",
    "    def __init__(self, start=0):\n",
    "        \"\"\"初始化，给Progression的start属性赋值，也就是数列的第一个数。如果不赋值默认第一个数是0.\"\"\"\n",
    "        self._current = start\n",
    "\n",
    "    def _advance(self):\n",
    "        \"\"\"更新 self._current 属性.\n",
    "\n",
    "        通过对此方法的覆盖，继承此类的子类可以实现其他不同的数列.\n",
    "\n",
    "        \"\"\"\n",
    "        self._current += 1\n",
    "\n",
    "    def __next__(self):\n",
    "        \"\"\"返回数列的值\"\"\"\n",
    "        answer = self._current     # 记录下当前的current值给answer，准备返回answer\n",
    "        self._advance()            # 在数列中前进一步\n",
    "        return answer                \n",
    "\n",
    "    def print_progression(self, n):\n",
    "        \"\"\"迭代n次，调用n次__next__方法，产生n个数的数列.\"\"\"\n",
    "        print(' '.join(str(self.__next__()) for j in range(n)))"
   ]
  },
  {
   "cell_type": "code",
   "execution_count": 44,
   "metadata": {},
   "outputs": [],
   "source": [
    "class ArithmeticProgression(Progression):  # 从基类Progression中继承\n",
    "    \"\"\"一个等差数列的子类.\"\"\"\n",
    "  \n",
    "    def __init__(self, increment=1, start=0):\n",
    "        \"\"\"创建一个新的等差数列的实例.\n",
    "\n",
    "        increment  等差数列的步长 (默认值 1)\n",
    "        start      等差数列的起始值 (默认值 0)\n",
    "        \"\"\"\n",
    "#         super().__init__(start)                # 先调用父类的__init__\n",
    "        super(ArithmeticProgression, self).__init__(start)\n",
    "        # 再给子类子集的属性赋值：\n",
    "        self._increment = increment\n",
    "\n",
    "    def _advance(self):                      # 在子类中重写了_advance函数\n",
    "        \"\"\"改为increment步长的等差数列.\"\"\"\n",
    "        self._current += self._increment"
   ]
  },
  {
   "cell_type": "code",
   "execution_count": 45,
   "metadata": {},
   "outputs": [],
   "source": [
    "class GeometricProgression(Progression):   # 从基类Progression中继承\n",
    "    \"\"\"一个等比数列的子类.\"\"\"\n",
    "  \n",
    "    def __init__(self, base=2, start=1):\n",
    "        \"\"\"创建一个新的等差数列的实例.\n",
    "\n",
    "        base       等比数列的固定比 (默认值 2)\n",
    "        start      等比数列起始值 (默认值 1)\n",
    "        \"\"\"\n",
    "#         super().__init__(start)            # 先调用父类的__init__\n",
    "        super(GeometricProgression, self).__init__(start)\n",
    "        # 再给子类子集的属性赋值：\n",
    "        self._base = base\n",
    "\n",
    "    def _advance(self):                      # 在子类中重写了_advance函数\n",
    "        \"\"\"每一步乘以base.\"\"\"\n",
    "        self._current *= self._base"
   ]
  },
  {
   "cell_type": "code",
   "execution_count": 46,
   "metadata": {},
   "outputs": [],
   "source": [
    "class FibonacciProgression(Progression):  # 从基类Progression中继承\n",
    "    \"\"\"一个斐波那契数列的子类（第三个数等于前两个数的和）.\"\"\"\n",
    "  \n",
    "    def __init__(self, first=0, second=1):\n",
    "        \"\"\"创建一个新的斐波那契数列的实例.\n",
    "\n",
    "        first      数列第一项 (默认值 0)\n",
    "        second     数列第二项 (默认值 1)\n",
    "        \"\"\"\n",
    "#         super().__init__(first)              # 先调用父类的__init__\n",
    "        super(FibonacciProgression, self).__init__(first)\n",
    "        # 再给子类子集的属性赋值：\n",
    "        self._prev = second - first          \n",
    "        \n",
    "    def _advance(self):\n",
    "        \"\"\"每一步都是前两个数的和.\"\"\"\n",
    "        self._prev, self._current = self._current, self._prev + self._current"
   ]
  },
  {
   "cell_type": "code",
   "execution_count": 48,
   "metadata": {},
   "outputs": [
    {
     "name": "stdout",
     "output_type": "stream",
     "text": [
      "默认的基类数列:\n",
      "0 1 2 3 4 5 6 7 8 9\n",
      "步长为5的等差数列:\n",
      "0 5 10 15 20 25 30 35 40 45\n",
      "从2开始步长为5的等差数列:\n",
      "2 7 12 17 22 27 32 37 42 47\n",
      "采用默认值的等比数列:\n",
      "1 2 4 8 16 32 64 128 256 512\n",
      "乘数为3的等比数列:\n",
      "1 3 9 27 81 243 729 2187 6561 19683\n",
      "默认起始值的斐波那契数列:\n",
      "0 1 1 2 3 5 8 13 21 34\n",
      "起始值为4和6的斐波那契数列:\n",
      "4 6 10 16 26 42 68 110 178 288\n"
     ]
    }
   ],
   "source": [
    "print('默认的基类数列:')\n",
    "Progression().print_progression(10)\n",
    "\n",
    "print('步长为5的等差数列:')\n",
    "ArithmeticProgression(5).print_progression(10)\n",
    "\n",
    "print('从2开始步长为5的等差数列:')\n",
    "ArithmeticProgression(5, 2).print_progression(10)\n",
    "\n",
    "print('采用默认值的等比数列:')\n",
    "GeometricProgression().print_progression(10)\n",
    "\n",
    "print('乘数为3的等比数列:')\n",
    "GeometricProgression(3).print_progression(10)\n",
    "\n",
    "print('默认起始值的斐波那契数列:')\n",
    "FibonacciProgression().print_progression(10)\n",
    "\n",
    "print('起始值为4和6的斐波那契数列:')\n",
    "FibonacciProgression(4, 6).print_progression(10)"
   ]
  },
  {
   "cell_type": "code",
   "execution_count": null,
   "metadata": {},
   "outputs": [],
   "source": []
  }
 ],
 "metadata": {
  "kernelspec": {
   "display_name": "Python 3.5.2 64-bit",
   "language": "python",
   "name": "python35264bitfe95a84a9df4473795e4501ce456065d"
  },
  "language_info": {
   "codemirror_mode": {
    "name": "ipython",
    "version": 3
   },
   "file_extension": ".py",
   "mimetype": "text/x-python",
   "name": "python",
   "nbconvert_exporter": "python",
   "pygments_lexer": "ipython3",
   "version": "3.5.2"
  }
 },
 "nbformat": 4,
 "nbformat_minor": 2
}
